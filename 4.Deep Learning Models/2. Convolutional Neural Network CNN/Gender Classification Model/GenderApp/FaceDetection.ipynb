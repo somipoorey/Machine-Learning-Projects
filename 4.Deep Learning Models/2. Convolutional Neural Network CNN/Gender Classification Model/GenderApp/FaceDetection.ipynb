{
 "cells": [
  {
   "cell_type": "markdown",
   "id": "20fd4020",
   "metadata": {},
   "source": [
    "##### Required Libraries"
   ]
  },
  {
   "cell_type": "code",
   "execution_count": 1,
   "id": "f17829bd",
   "metadata": {},
   "outputs": [],
   "source": [
    "from tensorflow.keras.preprocessing.image import ImageDataGenerator\n",
    "from tensorflow.keras.optimizers import Adam\n",
    "from tensorflow.keras.preprocessing.image import img_to_array\n",
    "from tensorflow.keras.utils import to_categorical, plot_model\n",
    "from tensorflow.keras.models import Sequential\n",
    "from tensorflow.keras.layers import BatchNormalization, Conv2D, MaxPooling2D, Activation, Flatten, Dropout, Dense\n",
    "from tensorflow.keras import backend as K\n",
    "from sklearn.model_selection import train_test_split\n",
    "import matplotlib.pyplot as plt\n",
    "import numpy as np\n",
    "import random\n",
    "import cv2\n",
    "import os\n",
    "import glob\n",
    "\n",
    "import warnings\n",
    "warnings.filterwarnings(\"ignore\", category=DeprecationWarning) "
   ]
  },
  {
   "cell_type": "code",
   "execution_count": 2,
   "id": "80a34b43",
   "metadata": {},
   "outputs": [],
   "source": [
    "# initial parameters\n",
    "epochs = 70\n",
    "lr = 1e-3\n",
    "batch_size = 64\n",
    "img_dims = (96,96,3)"
   ]
  },
  {
   "cell_type": "code",
   "execution_count": 3,
   "id": "3a3ecc42",
   "metadata": {},
   "outputs": [],
   "source": [
    "# load image files from the dataset\n",
    "image_files = [f for f in glob.glob(os.getcwd() + \"/**/*\", recursive=True) if not os.path.isdir(f)]\n",
    "random.shuffle(image_files)"
   ]
  },
  {
   "cell_type": "code",
   "execution_count": 4,
   "id": "c0513eaf",
   "metadata": {},
   "outputs": [],
   "source": [
    "# converting images to arrays and labelling the categories\n",
    "\n",
    "# Creating Data and labels\n",
    "data = []\n",
    "labels = []\n",
    "\n",
    "for img in image_files[::]:\n",
    "    image = cv2.imread(img)\n",
    "    \n",
    "    try:\n",
    "        image = cv2.resize(image,(img_dims[0],img_dims[1]))\n",
    "    except:\n",
    "        continue\n",
    "        \n",
    "    image = img_to_array(image)\n",
    "    data.append(image)\n",
    "\n",
    "    label = img.split(os.path.sep)[-1] # 'C:\\\\Users\\\\anura\\\\Desktop\\\\UTKface\\\\Data\\\\part1\\\\14_1_0_20170109204358190.jpg'\n",
    "    if label[label.index('_')+1] == \"1\": # Female\n",
    "        label = 1\n",
    "    else:\n",
    "        label = 0 # Male\n",
    "        \n",
    "    labels.append([label]) # [[1], [0], [0], ...]\n",
    "\n",
    "# pre-processing - conberting the image data to array\n",
    "data = np.array(data, dtype=\"float\") / 255.0\n",
    "labels = np.array(labels)\n",
    "\n",
    "# split dataset for training and validation\n",
    "(trainX, valX, trainY, valY) = train_test_split(data, labels, test_size=0.2,\n",
    "                                                  random_state=42)\n",
    "\n",
    "trainY = to_categorical(trainY, num_classes=2) # [[1, 0], [0, 1], [0, 1], ...]\n",
    "valY = to_categorical(valY, num_classes=2)"
   ]
  },
  {
   "cell_type": "code",
   "execution_count": 5,
   "id": "70fc69fd",
   "metadata": {},
   "outputs": [],
   "source": [
    "# augmenting datset \n",
    "aug = ImageDataGenerator(rotation_range=25, width_shift_range=0.1,\n",
    "                         height_shift_range=0.1, shear_range=0.2, zoom_range=0.2,\n",
    "                         horizontal_flip=True, fill_mode=\"nearest\")"
   ]
  },
  {
   "cell_type": "code",
   "execution_count": 6,
   "id": "e9fed34b",
   "metadata": {},
   "outputs": [],
   "source": [
    "# define model\n",
    "def build(width, height, depth, classes):\n",
    "    model = Sequential()\n",
    "    inputShape = (height, width, depth)\n",
    "    chanDim = -1\n",
    "\n",
    "    if K.image_data_format() == \"channels_first\": #Returns a string, either 'channels_first' or 'channels_last'\n",
    "        inputShape = (depth, height, width)\n",
    "        chanDim = 1\n",
    "    \n",
    "    # The axis that should be normalized, after a Conv2D layer with data_format=\"channels_first\", \n",
    "    # set axis=1 in BatchNormalization.\n",
    "\n",
    "    model.add(Conv2D(32, (3,3), padding=\"same\", input_shape=inputShape))\n",
    "    model.add(Activation(\"relu\"))\n",
    "    model.add(BatchNormalization(axis=chanDim))\n",
    "    model.add(MaxPooling2D(pool_size=(3,3)))\n",
    "    model.add(Dropout(0.25))\n",
    "\n",
    "    model.add(Conv2D(64, (3,3), padding=\"same\"))\n",
    "    model.add(Activation(\"relu\"))\n",
    "    model.add(BatchNormalization(axis=chanDim))\n",
    "\n",
    "    model.add(Conv2D(64, (3,3), padding=\"same\"))\n",
    "    model.add(Activation(\"relu\"))\n",
    "    model.add(BatchNormalization(axis=chanDim))\n",
    "    model.add(MaxPooling2D(pool_size=(2,2)))\n",
    "    model.add(Dropout(0.25))\n",
    "\n",
    "    model.add(Conv2D(128, (3,3), padding=\"same\"))\n",
    "    model.add(Activation(\"relu\"))\n",
    "    model.add(BatchNormalization(axis=chanDim))\n",
    "\n",
    "    model.add(Conv2D(128, (3,3), padding=\"same\"))\n",
    "    model.add(Activation(\"relu\"))\n",
    "    model.add(BatchNormalization(axis=chanDim))\n",
    "    model.add(MaxPooling2D(pool_size=(2,2)))\n",
    "    model.add(Dropout(0.25))\n",
    "\n",
    "    model.add(Flatten())\n",
    "    model.add(Dense(1024))\n",
    "    model.add(Activation(\"relu\"))\n",
    "    model.add(BatchNormalization())\n",
    "    model.add(Dropout(0.5))\n",
    "\n",
    "    model.add(Dense(classes))\n",
    "    model.add(Activation(\"sigmoid\"))\n",
    "\n",
    "    return model"
   ]
  },
  {
   "cell_type": "code",
   "execution_count": 7,
   "id": "f14b808a",
   "metadata": {},
   "outputs": [],
   "source": [
    "# build model\n",
    "model = build(width=img_dims[0], height=img_dims[1], depth=img_dims[2],\n",
    "                            classes=2)"
   ]
  },
  {
   "cell_type": "code",
   "execution_count": 8,
   "id": "dd2d29fa",
   "metadata": {},
   "outputs": [
    {
     "name": "stderr",
     "output_type": "stream",
     "text": [
      "C:\\Users\\anura\\anaconda3\\lib\\site-packages\\keras\\optimizers\\optimizer_v2\\adam.py:110: UserWarning: The `lr` argument is deprecated, use `learning_rate` instead.\n",
      "  super(Adam, self).__init__(name, **kwargs)\n"
     ]
    }
   ],
   "source": [
    "# compile the model\n",
    "opt = Adam(lr=lr, decay=lr/epochs)\n",
    "model.compile(loss=\"binary_crossentropy\", optimizer=opt, metrics=[\"accuracy\"])"
   ]
  },
  {
   "cell_type": "code",
   "execution_count": 9,
   "id": "f9f6b95a",
   "metadata": {},
   "outputs": [
    {
     "name": "stderr",
     "output_type": "stream",
     "text": [
      "C:\\Users\\anura\\AppData\\Local\\Temp\\ipykernel_3248\\2661630514.py:2: UserWarning: `Model.fit_generator` is deprecated and will be removed in a future version. Please use `Model.fit`, which supports generators.\n",
      "  H = model.fit_generator(aug.flow(trainX, trainY, batch_size=batch_size),\n"
     ]
    },
    {
     "name": "stdout",
     "output_type": "stream",
     "text": [
      "Epoch 1/70\n",
      "423/423 [==============================] - 400s 928ms/step - loss: 0.7304 - accuracy: 0.6302 - val_loss: 0.8009 - val_accuracy: 0.6220\n",
      "Epoch 2/70\n",
      "423/423 [==============================] - 393s 929ms/step - loss: 0.5956 - accuracy: 0.6943 - val_loss: 0.6390 - val_accuracy: 0.6791\n",
      "Epoch 3/70\n",
      "423/423 [==============================] - 372s 879ms/step - loss: 0.5527 - accuracy: 0.7200 - val_loss: 0.5722 - val_accuracy: 0.7262\n",
      "Epoch 4/70\n",
      "423/423 [==============================] - 376s 889ms/step - loss: 0.5194 - accuracy: 0.7351 - val_loss: 0.5441 - val_accuracy: 0.7107\n",
      "Epoch 5/70\n",
      "423/423 [==============================] - 388s 916ms/step - loss: 0.4891 - accuracy: 0.7546 - val_loss: 0.4168 - val_accuracy: 0.7957\n",
      "Epoch 6/70\n",
      "423/423 [==============================] - 385s 909ms/step - loss: 0.4641 - accuracy: 0.7730 - val_loss: 0.4118 - val_accuracy: 0.7918\n",
      "Epoch 7/70\n",
      "423/423 [==============================] - 380s 898ms/step - loss: 0.4511 - accuracy: 0.7794 - val_loss: 0.5045 - val_accuracy: 0.7434\n",
      "Epoch 8/70\n",
      "423/423 [==============================] - 378s 893ms/step - loss: 0.4371 - accuracy: 0.7850 - val_loss: 0.3948 - val_accuracy: 0.8241\n",
      "Epoch 9/70\n",
      "423/423 [==============================] - 383s 905ms/step - loss: 0.4170 - accuracy: 0.8025 - val_loss: 0.4045 - val_accuracy: 0.8114\n",
      "Epoch 10/70\n",
      "423/423 [==============================] - 385s 909ms/step - loss: 0.4060 - accuracy: 0.8060 - val_loss: 0.3827 - val_accuracy: 0.8303\n",
      "Epoch 11/70\n",
      "423/423 [==============================] - 383s 906ms/step - loss: 0.4047 - accuracy: 0.8068 - val_loss: 0.3940 - val_accuracy: 0.8156\n",
      "Epoch 12/70\n",
      "423/423 [==============================] - 383s 904ms/step - loss: 0.3927 - accuracy: 0.8148 - val_loss: 0.3590 - val_accuracy: 0.8315\n",
      "Epoch 13/70\n",
      "423/423 [==============================] - 383s 906ms/step - loss: 0.3779 - accuracy: 0.8231 - val_loss: 0.3346 - val_accuracy: 0.8536\n",
      "Epoch 14/70\n",
      "423/423 [==============================] - 384s 907ms/step - loss: 0.3800 - accuracy: 0.8193 - val_loss: 0.3194 - val_accuracy: 0.8533\n",
      "Epoch 15/70\n",
      "423/423 [==============================] - 383s 905ms/step - loss: 0.3645 - accuracy: 0.8297 - val_loss: 0.3210 - val_accuracy: 0.8517\n",
      "Epoch 16/70\n",
      "423/423 [==============================] - 383s 905ms/step - loss: 0.3615 - accuracy: 0.8321 - val_loss: 0.3198 - val_accuracy: 0.8507\n",
      "Epoch 17/70\n",
      "423/423 [==============================] - 390s 921ms/step - loss: 0.3535 - accuracy: 0.8344 - val_loss: 0.3202 - val_accuracy: 0.8501\n",
      "Epoch 18/70\n",
      "423/423 [==============================] - 381s 901ms/step - loss: 0.3488 - accuracy: 0.8386 - val_loss: 0.3124 - val_accuracy: 0.8600\n",
      "Epoch 19/70\n",
      "423/423 [==============================] - 381s 901ms/step - loss: 0.3474 - accuracy: 0.8389 - val_loss: 0.3469 - val_accuracy: 0.8463\n",
      "Epoch 20/70\n",
      "423/423 [==============================] - 380s 899ms/step - loss: 0.3414 - accuracy: 0.8426 - val_loss: 0.2924 - val_accuracy: 0.8672\n",
      "Epoch 21/70\n",
      "423/423 [==============================] - 379s 897ms/step - loss: 0.3407 - accuracy: 0.8437 - val_loss: 0.2904 - val_accuracy: 0.8725\n",
      "Epoch 22/70\n",
      "423/423 [==============================] - 379s 897ms/step - loss: 0.3401 - accuracy: 0.8423 - val_loss: 0.2878 - val_accuracy: 0.8699\n",
      "Epoch 23/70\n",
      "423/423 [==============================] - 382s 902ms/step - loss: 0.3320 - accuracy: 0.8457 - val_loss: 0.3245 - val_accuracy: 0.8528\n",
      "Epoch 24/70\n",
      "423/423 [==============================] - 382s 902ms/step - loss: 0.3316 - accuracy: 0.8480 - val_loss: 0.2948 - val_accuracy: 0.8696\n",
      "Epoch 25/70\n",
      "423/423 [==============================] - 380s 898ms/step - loss: 0.3209 - accuracy: 0.8520 - val_loss: 0.2967 - val_accuracy: 0.8644\n",
      "Epoch 26/70\n",
      "423/423 [==============================] - 378s 894ms/step - loss: 0.3181 - accuracy: 0.8551 - val_loss: 0.3101 - val_accuracy: 0.8569\n",
      "Epoch 27/70\n",
      "423/423 [==============================] - 379s 896ms/step - loss: 0.3150 - accuracy: 0.8563 - val_loss: 0.2762 - val_accuracy: 0.8796\n",
      "Epoch 28/70\n",
      "423/423 [==============================] - 382s 903ms/step - loss: 0.3156 - accuracy: 0.8562 - val_loss: 0.3023 - val_accuracy: 0.8646\n",
      "Epoch 29/70\n",
      "423/423 [==============================] - 380s 898ms/step - loss: 0.3144 - accuracy: 0.8570 - val_loss: 0.2731 - val_accuracy: 0.8798\n",
      "Epoch 30/70\n",
      "423/423 [==============================] - 379s 895ms/step - loss: 0.3165 - accuracy: 0.8557 - val_loss: 0.2961 - val_accuracy: 0.8702\n",
      "Epoch 31/70\n",
      "423/423 [==============================] - 380s 898ms/step - loss: 0.3097 - accuracy: 0.8613 - val_loss: 0.2673 - val_accuracy: 0.8808\n",
      "Epoch 32/70\n",
      "423/423 [==============================] - 380s 897ms/step - loss: 0.3108 - accuracy: 0.8598 - val_loss: 0.3000 - val_accuracy: 0.8607\n",
      "Epoch 33/70\n",
      "423/423 [==============================] - 381s 902ms/step - loss: 0.3055 - accuracy: 0.8620 - val_loss: 0.2781 - val_accuracy: 0.8756\n",
      "Epoch 34/70\n",
      "423/423 [==============================] - 379s 897ms/step - loss: 0.3071 - accuracy: 0.8587 - val_loss: 0.2727 - val_accuracy: 0.8833\n",
      "Epoch 35/70\n",
      "423/423 [==============================] - 377s 892ms/step - loss: 0.3038 - accuracy: 0.8637 - val_loss: 0.3072 - val_accuracy: 0.8656\n",
      "Epoch 36/70\n",
      "423/423 [==============================] - 376s 888ms/step - loss: 0.2971 - accuracy: 0.8662 - val_loss: 0.3213 - val_accuracy: 0.8562\n",
      "Epoch 37/70\n",
      "423/423 [==============================] - 378s 894ms/step - loss: 0.2952 - accuracy: 0.8672 - val_loss: 0.2620 - val_accuracy: 0.8818\n",
      "Epoch 38/70\n",
      "423/423 [==============================] - 380s 897ms/step - loss: 0.2932 - accuracy: 0.8689 - val_loss: 0.2897 - val_accuracy: 0.8719\n",
      "Epoch 39/70\n",
      "423/423 [==============================] - 379s 895ms/step - loss: 0.2969 - accuracy: 0.8673 - val_loss: 0.2677 - val_accuracy: 0.8820\n",
      "Epoch 40/70\n",
      "423/423 [==============================] - 378s 894ms/step - loss: 0.2942 - accuracy: 0.8675 - val_loss: 0.2820 - val_accuracy: 0.8753\n",
      "Epoch 41/70\n",
      "423/423 [==============================] - 377s 892ms/step - loss: 0.2929 - accuracy: 0.8672 - val_loss: 0.2746 - val_accuracy: 0.8781\n",
      "Epoch 42/70\n",
      "423/423 [==============================] - 379s 896ms/step - loss: 0.2882 - accuracy: 0.8690 - val_loss: 0.3932 - val_accuracy: 0.8204\n",
      "Epoch 43/70\n",
      "423/423 [==============================] - 380s 898ms/step - loss: 0.2871 - accuracy: 0.8684 - val_loss: 0.2546 - val_accuracy: 0.8885\n",
      "Epoch 44/70\n",
      "423/423 [==============================] - 378s 893ms/step - loss: 0.2843 - accuracy: 0.8732 - val_loss: 0.2594 - val_accuracy: 0.8868\n",
      "Epoch 45/70\n",
      "423/423 [==============================] - 376s 888ms/step - loss: 0.2843 - accuracy: 0.8705 - val_loss: 0.3881 - val_accuracy: 0.8281\n",
      "Epoch 46/70\n",
      "423/423 [==============================] - 375s 887ms/step - loss: 0.2841 - accuracy: 0.8714 - val_loss: 0.2657 - val_accuracy: 0.8854\n",
      "Epoch 47/70\n",
      "423/423 [==============================] - 379s 897ms/step - loss: 0.2770 - accuracy: 0.8764 - val_loss: 0.2908 - val_accuracy: 0.8694\n",
      "Epoch 48/70\n",
      "423/423 [==============================] - 381s 901ms/step - loss: 0.2741 - accuracy: 0.8787 - val_loss: 0.3092 - val_accuracy: 0.8715\n",
      "Epoch 49/70\n",
      "423/423 [==============================] - 375s 887ms/step - loss: 0.2733 - accuracy: 0.8774 - val_loss: 0.2939 - val_accuracy: 0.8740\n",
      "Epoch 50/70\n",
      "423/423 [==============================] - 374s 885ms/step - loss: 0.2746 - accuracy: 0.8771 - val_loss: 0.2512 - val_accuracy: 0.8923\n",
      "Epoch 51/70\n",
      "423/423 [==============================] - 375s 887ms/step - loss: 0.2730 - accuracy: 0.8801 - val_loss: 0.2573 - val_accuracy: 0.8834\n",
      "Epoch 52/70\n",
      "423/423 [==============================] - 379s 895ms/step - loss: 0.2676 - accuracy: 0.8832 - val_loss: 0.2602 - val_accuracy: 0.8840\n",
      "Epoch 53/70\n",
      "423/423 [==============================] - 376s 889ms/step - loss: 0.2702 - accuracy: 0.8813 - val_loss: 0.2444 - val_accuracy: 0.8932\n",
      "Epoch 54/70\n",
      "423/423 [==============================] - 379s 897ms/step - loss: 0.2673 - accuracy: 0.8803 - val_loss: 0.3033 - val_accuracy: 0.8690\n",
      "Epoch 55/70\n",
      "423/423 [==============================] - 376s 889ms/step - loss: 0.2704 - accuracy: 0.8798 - val_loss: 0.2585 - val_accuracy: 0.8920\n",
      "Epoch 56/70\n",
      "423/423 [==============================] - 377s 890ms/step - loss: 0.2631 - accuracy: 0.8823 - val_loss: 0.2593 - val_accuracy: 0.8864\n"
     ]
    },
    {
     "name": "stdout",
     "output_type": "stream",
     "text": [
      "Epoch 57/70\n",
      "423/423 [==============================] - 378s 894ms/step - loss: 0.2607 - accuracy: 0.8837 - val_loss: 0.2976 - val_accuracy: 0.8724\n",
      "Epoch 58/70\n",
      "423/423 [==============================] - 376s 889ms/step - loss: 0.2615 - accuracy: 0.8846 - val_loss: 0.2575 - val_accuracy: 0.8892\n",
      "Epoch 59/70\n",
      "423/423 [==============================] - 375s 885ms/step - loss: 0.2600 - accuracy: 0.8866 - val_loss: 0.2865 - val_accuracy: 0.8750\n",
      "Epoch 60/70\n",
      "423/423 [==============================] - 375s 885ms/step - loss: 0.2551 - accuracy: 0.8882 - val_loss: 0.3318 - val_accuracy: 0.8666\n",
      "Epoch 61/70\n",
      "423/423 [==============================] - 377s 891ms/step - loss: 0.2625 - accuracy: 0.8848 - val_loss: 0.2725 - val_accuracy: 0.8839\n",
      "Epoch 62/70\n",
      "423/423 [==============================] - 383s 905ms/step - loss: 0.2579 - accuracy: 0.8868 - val_loss: 0.2659 - val_accuracy: 0.8796\n",
      "Epoch 63/70\n",
      "423/423 [==============================] - 377s 890ms/step - loss: 0.2545 - accuracy: 0.8894 - val_loss: 0.4973 - val_accuracy: 0.7684\n",
      "Epoch 64/70\n",
      "423/423 [==============================] - 369s 872ms/step - loss: 0.2653 - accuracy: 0.8834 - val_loss: 0.2868 - val_accuracy: 0.8777\n",
      "Epoch 65/70\n",
      "423/423 [==============================] - 370s 875ms/step - loss: 0.2570 - accuracy: 0.8896 - val_loss: 0.3841 - val_accuracy: 0.8284\n",
      "Epoch 66/70\n",
      "423/423 [==============================] - 370s 875ms/step - loss: 0.2627 - accuracy: 0.8843 - val_loss: 0.2737 - val_accuracy: 0.8889\n",
      "Epoch 67/70\n",
      "423/423 [==============================] - 370s 875ms/step - loss: 0.2560 - accuracy: 0.8900 - val_loss: 0.2515 - val_accuracy: 0.8954\n",
      "Epoch 68/70\n",
      "423/423 [==============================] - 370s 875ms/step - loss: 0.2476 - accuracy: 0.8911 - val_loss: 0.2449 - val_accuracy: 0.8988\n",
      "Epoch 69/70\n",
      "423/423 [==============================] - 372s 880ms/step - loss: 0.2557 - accuracy: 0.8893 - val_loss: 0.2474 - val_accuracy: 0.8951\n",
      "Epoch 70/70\n",
      "423/423 [==============================] - 373s 881ms/step - loss: 0.2473 - accuracy: 0.8927 - val_loss: 0.2992 - val_accuracy: 0.8740\n"
     ]
    }
   ],
   "source": [
    "# train the model\n",
    "H = model.fit_generator(aug.flow(trainX, trainY, batch_size=batch_size),\n",
    "                        validation_data=(valX,valY),\n",
    "                        steps_per_epoch=len(trainX) // batch_size,\n",
    "                        epochs=epochs, verbose=1)"
   ]
  },
  {
   "cell_type": "code",
   "execution_count": 10,
   "id": "1284801a",
   "metadata": {},
   "outputs": [
    {
     "name": "stderr",
     "output_type": "stream",
     "text": [
      "WARNING:absl:Found untraced functions such as _jit_compiled_convolution_op, _jit_compiled_convolution_op, _jit_compiled_convolution_op, _jit_compiled_convolution_op, _jit_compiled_convolution_op while saving (showing 5 of 5). These functions will not be directly callable after loading.\n"
     ]
    },
    {
     "name": "stdout",
     "output_type": "stream",
     "text": [
      "INFO:tensorflow:Assets written to: C:\\Users\\anura\\Desktop\\UTKface/saved_model/gender_model\\assets\n"
     ]
    },
    {
     "name": "stderr",
     "output_type": "stream",
     "text": [
      "INFO:tensorflow:Assets written to: C:\\Users\\anura\\Desktop\\UTKface/saved_model/gender_model\\assets\n"
     ]
    }
   ],
   "source": [
    "# save the model to disk\n",
    "model.save(os.getcwd()+'/saved_model/gender_model')"
   ]
  },
  {
   "cell_type": "code",
   "execution_count": 11,
   "id": "e9fc6928",
   "metadata": {},
   "outputs": [
    {
     "data": {
      "text/plain": [
       "<matplotlib.legend.Legend at 0x2838851b670>"
      ]
     },
     "execution_count": 11,
     "metadata": {},
     "output_type": "execute_result"
    },
    {
     "data": {
      "image/png": "[encoded data removed]",
      "text/plain": [
       "<Figure size 432x288 with 1 Axes>"
      ]
     },
     "metadata": {},
     "output_type": "display_data"
    }
   ],
   "source": [
    "# plot training/validation loss/accuracy\n",
    "plt.style.use(\"ggplot\")\n",
    "plt.figure()\n",
    "N = epochs\n",
    "plt.plot(np.arange(0,N), H.history[\"loss\"], label=\"train_loss\")\n",
    "plt.plot(np.arange(0,N), H.history[\"val_loss\"], label=\"val_loss\")\n",
    "plt.plot(np.arange(0,N), H.history[\"accuracy\"], label=\"train_acc\")\n",
    "plt.plot(np.arange(0,N), H.history[\"val_accuracy\"], label=\"val_acc\")\n",
    "\n",
    "plt.title(\"Training Loss and Accuracy\")\n",
    "plt.xlabel(\"Epoch #\")\n",
    "plt.ylabel(\"Loss/Accuracy\")\n",
    "plt.legend(loc=\"upper right\")\n"
   ]
  }
 ],
 "metadata": {
  "kernelspec": {
   "display_name": "Python 3 (ipykernel)",
   "language": "python",
   "name": "python3"
  },
  "language_info": {
   "codemirror_mode": {
    "name": "ipython",
    "version": 3
   },
   "file_extension": ".py",
   "mimetype": "text/x-python",
   "name": "python",
   "nbconvert_exporter": "python",
   "pygments_lexer": "ipython3",
   "version": "3.9.12"
  }
 },
 "nbformat": 4,
 "nbformat_minor": 5
}
