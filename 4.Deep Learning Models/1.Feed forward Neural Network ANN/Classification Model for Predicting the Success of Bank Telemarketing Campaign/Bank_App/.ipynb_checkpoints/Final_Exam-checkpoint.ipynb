{
 "cells": [
  {
   "cell_type": "markdown",
   "id": "324612c8",
   "metadata": {},
   "source": [
    "## Importing Libraries"
   ]
  },
  {
   "cell_type": "code",
   "execution_count": 1,
   "id": "b4f3973f",
   "metadata": {},
   "outputs": [],
   "source": [
    "import pandas as pd\n",
    "import numpy as np\n",
    "import seaborn as sns\n",
    "\n",
    "from keras.models import Sequential\n",
    "from keras.layers import Dense, Flatten, Conv2D\n",
    "from tensorflow.keras.optimizers import Adam\n",
    "\n",
    "from tensorflow.keras.utils import to_categorical\n",
    "from keras import optimizers\n",
    "from sklearn.preprocessing import OneHotEncoder, StandardScaler, LabelEncoder\n",
    "\n",
    "import matplotlib.pyplot as plt\n",
    "%matplotlib inline\n",
    "\n",
    "from sklearn.model_selection import train_test_split\n",
    "from sklearn.metrics import confusion_matrix\n",
    "\n",
    "import tensorflow as tf\n",
    "import random as rn\n",
    "%load_ext tensorboard\n",
    "\n",
    "# Clear any logs from previous runs\n",
    "#!rm -rf ./logs/\n",
    "\n",
    "import os\n",
    "\n",
    "import datetime"
   ]
  },
  {
   "cell_type": "markdown",
   "id": "9ec55f82",
   "metadata": {},
   "source": [
    "## Importing Data"
   ]
  },
  {
   "cell_type": "code",
   "execution_count": 2,
   "id": "6a7cece5",
   "metadata": {},
   "outputs": [],
   "source": [
    "Base_path=os.getcwd().replace(\"\\\\\",\"/\")"
   ]
  },
  {
   "cell_type": "code",
   "execution_count": 3,
   "id": "28a02b35",
   "metadata": {
    "scrolled": true
   },
   "outputs": [
    {
     "data": {
      "text/html": [
       "<div>\n",
       "<style scoped>\n",
       "    .dataframe tbody tr th:only-of-type {\n",
       "        vertical-align: middle;\n",
       "    }\n",
       "\n",
       "    .dataframe tbody tr th {\n",
       "        vertical-align: top;\n",
       "    }\n",
       "\n",
       "    .dataframe thead th {\n",
       "        text-align: right;\n",
       "    }\n",
       "</style>\n",
       "<table border=\"1\" class=\"dataframe\">\n",
       "  <thead>\n",
       "    <tr style=\"text-align: right;\">\n",
       "      <th></th>\n",
       "      <th>age</th>\n",
       "      <th>job</th>\n",
       "      <th>marital</th>\n",
       "      <th>education</th>\n",
       "      <th>default</th>\n",
       "      <th>housing</th>\n",
       "      <th>loan</th>\n",
       "      <th>contact</th>\n",
       "      <th>month</th>\n",
       "      <th>day_of_week</th>\n",
       "      <th>...</th>\n",
       "      <th>campaign</th>\n",
       "      <th>pdays</th>\n",
       "      <th>previous</th>\n",
       "      <th>poutcome</th>\n",
       "      <th>emp.var.rate</th>\n",
       "      <th>cons.price.idx</th>\n",
       "      <th>cons.conf.idx</th>\n",
       "      <th>euribor3m</th>\n",
       "      <th>nr.employed</th>\n",
       "      <th>y</th>\n",
       "    </tr>\n",
       "  </thead>\n",
       "  <tbody>\n",
       "    <tr>\n",
       "      <th>0</th>\n",
       "      <td>56</td>\n",
       "      <td>housemaid</td>\n",
       "      <td>married</td>\n",
       "      <td>basic.4y</td>\n",
       "      <td>no</td>\n",
       "      <td>no</td>\n",
       "      <td>no</td>\n",
       "      <td>telephone</td>\n",
       "      <td>may</td>\n",
       "      <td>mon</td>\n",
       "      <td>...</td>\n",
       "      <td>1</td>\n",
       "      <td>999</td>\n",
       "      <td>0</td>\n",
       "      <td>nonexistent</td>\n",
       "      <td>1.1</td>\n",
       "      <td>93.994</td>\n",
       "      <td>-36.4</td>\n",
       "      <td>4.857</td>\n",
       "      <td>5191.0</td>\n",
       "      <td>no</td>\n",
       "    </tr>\n",
       "    <tr>\n",
       "      <th>1</th>\n",
       "      <td>57</td>\n",
       "      <td>services</td>\n",
       "      <td>married</td>\n",
       "      <td>high.school</td>\n",
       "      <td>unknown</td>\n",
       "      <td>no</td>\n",
       "      <td>no</td>\n",
       "      <td>telephone</td>\n",
       "      <td>may</td>\n",
       "      <td>mon</td>\n",
       "      <td>...</td>\n",
       "      <td>1</td>\n",
       "      <td>999</td>\n",
       "      <td>0</td>\n",
       "      <td>nonexistent</td>\n",
       "      <td>1.1</td>\n",
       "      <td>93.994</td>\n",
       "      <td>-36.4</td>\n",
       "      <td>4.857</td>\n",
       "      <td>5191.0</td>\n",
       "      <td>no</td>\n",
       "    </tr>\n",
       "    <tr>\n",
       "      <th>2</th>\n",
       "      <td>37</td>\n",
       "      <td>services</td>\n",
       "      <td>married</td>\n",
       "      <td>high.school</td>\n",
       "      <td>no</td>\n",
       "      <td>yes</td>\n",
       "      <td>no</td>\n",
       "      <td>telephone</td>\n",
       "      <td>may</td>\n",
       "      <td>mon</td>\n",
       "      <td>...</td>\n",
       "      <td>1</td>\n",
       "      <td>999</td>\n",
       "      <td>0</td>\n",
       "      <td>nonexistent</td>\n",
       "      <td>1.1</td>\n",
       "      <td>93.994</td>\n",
       "      <td>-36.4</td>\n",
       "      <td>4.857</td>\n",
       "      <td>5191.0</td>\n",
       "      <td>no</td>\n",
       "    </tr>\n",
       "    <tr>\n",
       "      <th>3</th>\n",
       "      <td>40</td>\n",
       "      <td>admin.</td>\n",
       "      <td>married</td>\n",
       "      <td>basic.6y</td>\n",
       "      <td>no</td>\n",
       "      <td>no</td>\n",
       "      <td>no</td>\n",
       "      <td>telephone</td>\n",
       "      <td>may</td>\n",
       "      <td>mon</td>\n",
       "      <td>...</td>\n",
       "      <td>1</td>\n",
       "      <td>999</td>\n",
       "      <td>0</td>\n",
       "      <td>nonexistent</td>\n",
       "      <td>1.1</td>\n",
       "      <td>93.994</td>\n",
       "      <td>-36.4</td>\n",
       "      <td>4.857</td>\n",
       "      <td>5191.0</td>\n",
       "      <td>no</td>\n",
       "    </tr>\n",
       "    <tr>\n",
       "      <th>4</th>\n",
       "      <td>56</td>\n",
       "      <td>services</td>\n",
       "      <td>married</td>\n",
       "      <td>high.school</td>\n",
       "      <td>no</td>\n",
       "      <td>no</td>\n",
       "      <td>yes</td>\n",
       "      <td>telephone</td>\n",
       "      <td>may</td>\n",
       "      <td>mon</td>\n",
       "      <td>...</td>\n",
       "      <td>1</td>\n",
       "      <td>999</td>\n",
       "      <td>0</td>\n",
       "      <td>nonexistent</td>\n",
       "      <td>1.1</td>\n",
       "      <td>93.994</td>\n",
       "      <td>-36.4</td>\n",
       "      <td>4.857</td>\n",
       "      <td>5191.0</td>\n",
       "      <td>no</td>\n",
       "    </tr>\n",
       "  </tbody>\n",
       "</table>\n",
       "<p>5 rows × 21 columns</p>\n",
       "</div>"
      ],
      "text/plain": [
       "   age        job  marital    education  default housing loan    contact  \\\n",
       "0   56  housemaid  married     basic.4y       no      no   no  telephone   \n",
       "1   57   services  married  high.school  unknown      no   no  telephone   \n",
       "2   37   services  married  high.school       no     yes   no  telephone   \n",
       "3   40     admin.  married     basic.6y       no      no   no  telephone   \n",
       "4   56   services  married  high.school       no      no  yes  telephone   \n",
       "\n",
       "  month day_of_week  ...  campaign  pdays  previous     poutcome emp.var.rate  \\\n",
       "0   may         mon  ...         1    999         0  nonexistent          1.1   \n",
       "1   may         mon  ...         1    999         0  nonexistent          1.1   \n",
       "2   may         mon  ...         1    999         0  nonexistent          1.1   \n",
       "3   may         mon  ...         1    999         0  nonexistent          1.1   \n",
       "4   may         mon  ...         1    999         0  nonexistent          1.1   \n",
       "\n",
       "   cons.price.idx  cons.conf.idx  euribor3m  nr.employed   y  \n",
       "0          93.994          -36.4      4.857       5191.0  no  \n",
       "1          93.994          -36.4      4.857       5191.0  no  \n",
       "2          93.994          -36.4      4.857       5191.0  no  \n",
       "3          93.994          -36.4      4.857       5191.0  no  \n",
       "4          93.994          -36.4      4.857       5191.0  no  \n",
       "\n",
       "[5 rows x 21 columns]"
      ]
     },
     "execution_count": 3,
     "metadata": {},
     "output_type": "execute_result"
    }
   ],
   "source": [
    "df = pd.read_csv(os.getcwd().replace(\"\\\\\",\"/\")+'/Dataset/'+'Bank-Telemarketing.csv')\n",
    "df.head()"
   ]
  },
  {
   "cell_type": "code",
   "execution_count": 4,
   "id": "058d3d08",
   "metadata": {},
   "outputs": [
    {
     "data": {
      "text/html": [
       "<div>\n",
       "<style scoped>\n",
       "    .dataframe tbody tr th:only-of-type {\n",
       "        vertical-align: middle;\n",
       "    }\n",
       "\n",
       "    .dataframe tbody tr th {\n",
       "        vertical-align: top;\n",
       "    }\n",
       "\n",
       "    .dataframe thead th {\n",
       "        text-align: right;\n",
       "    }\n",
       "</style>\n",
       "<table border=\"1\" class=\"dataframe\">\n",
       "  <thead>\n",
       "    <tr style=\"text-align: right;\">\n",
       "      <th></th>\n",
       "      <th>age</th>\n",
       "      <th>duration</th>\n",
       "      <th>campaign</th>\n",
       "      <th>pdays</th>\n",
       "      <th>previous</th>\n",
       "      <th>emp.var.rate</th>\n",
       "      <th>cons.price.idx</th>\n",
       "      <th>cons.conf.idx</th>\n",
       "      <th>euribor3m</th>\n",
       "      <th>nr.employed</th>\n",
       "    </tr>\n",
       "  </thead>\n",
       "  <tbody>\n",
       "    <tr>\n",
       "      <th>count</th>\n",
       "      <td>41188.00000</td>\n",
       "      <td>41188.000000</td>\n",
       "      <td>41188.000000</td>\n",
       "      <td>41188.000000</td>\n",
       "      <td>41188.000000</td>\n",
       "      <td>41188.000000</td>\n",
       "      <td>41188.000000</td>\n",
       "      <td>41188.000000</td>\n",
       "      <td>41188.000000</td>\n",
       "      <td>41188.000000</td>\n",
       "    </tr>\n",
       "    <tr>\n",
       "      <th>mean</th>\n",
       "      <td>40.02406</td>\n",
       "      <td>258.285010</td>\n",
       "      <td>2.567593</td>\n",
       "      <td>962.475454</td>\n",
       "      <td>0.172963</td>\n",
       "      <td>0.081886</td>\n",
       "      <td>93.575664</td>\n",
       "      <td>-40.502600</td>\n",
       "      <td>3.621291</td>\n",
       "      <td>5167.035911</td>\n",
       "    </tr>\n",
       "    <tr>\n",
       "      <th>std</th>\n",
       "      <td>10.42125</td>\n",
       "      <td>259.279249</td>\n",
       "      <td>2.770014</td>\n",
       "      <td>186.910907</td>\n",
       "      <td>0.494901</td>\n",
       "      <td>1.570960</td>\n",
       "      <td>0.578840</td>\n",
       "      <td>4.628198</td>\n",
       "      <td>1.734447</td>\n",
       "      <td>72.251528</td>\n",
       "    </tr>\n",
       "    <tr>\n",
       "      <th>min</th>\n",
       "      <td>17.00000</td>\n",
       "      <td>0.000000</td>\n",
       "      <td>1.000000</td>\n",
       "      <td>0.000000</td>\n",
       "      <td>0.000000</td>\n",
       "      <td>-3.400000</td>\n",
       "      <td>92.201000</td>\n",
       "      <td>-50.800000</td>\n",
       "      <td>0.634000</td>\n",
       "      <td>4963.600000</td>\n",
       "    </tr>\n",
       "    <tr>\n",
       "      <th>25%</th>\n",
       "      <td>32.00000</td>\n",
       "      <td>102.000000</td>\n",
       "      <td>1.000000</td>\n",
       "      <td>999.000000</td>\n",
       "      <td>0.000000</td>\n",
       "      <td>-1.800000</td>\n",
       "      <td>93.075000</td>\n",
       "      <td>-42.700000</td>\n",
       "      <td>1.344000</td>\n",
       "      <td>5099.100000</td>\n",
       "    </tr>\n",
       "    <tr>\n",
       "      <th>50%</th>\n",
       "      <td>38.00000</td>\n",
       "      <td>180.000000</td>\n",
       "      <td>2.000000</td>\n",
       "      <td>999.000000</td>\n",
       "      <td>0.000000</td>\n",
       "      <td>1.100000</td>\n",
       "      <td>93.749000</td>\n",
       "      <td>-41.800000</td>\n",
       "      <td>4.857000</td>\n",
       "      <td>5191.000000</td>\n",
       "    </tr>\n",
       "    <tr>\n",
       "      <th>75%</th>\n",
       "      <td>47.00000</td>\n",
       "      <td>319.000000</td>\n",
       "      <td>3.000000</td>\n",
       "      <td>999.000000</td>\n",
       "      <td>0.000000</td>\n",
       "      <td>1.400000</td>\n",
       "      <td>93.994000</td>\n",
       "      <td>-36.400000</td>\n",
       "      <td>4.961000</td>\n",
       "      <td>5228.100000</td>\n",
       "    </tr>\n",
       "    <tr>\n",
       "      <th>max</th>\n",
       "      <td>98.00000</td>\n",
       "      <td>4918.000000</td>\n",
       "      <td>56.000000</td>\n",
       "      <td>999.000000</td>\n",
       "      <td>7.000000</td>\n",
       "      <td>1.400000</td>\n",
       "      <td>94.767000</td>\n",
       "      <td>-26.900000</td>\n",
       "      <td>5.045000</td>\n",
       "      <td>5228.100000</td>\n",
       "    </tr>\n",
       "  </tbody>\n",
       "</table>\n",
       "</div>"
      ],
      "text/plain": [
       "               age      duration      campaign         pdays      previous  \\\n",
       "count  41188.00000  41188.000000  41188.000000  41188.000000  41188.000000   \n",
       "mean      40.02406    258.285010      2.567593    962.475454      0.172963   \n",
       "std       10.42125    259.279249      2.770014    186.910907      0.494901   \n",
       "min       17.00000      0.000000      1.000000      0.000000      0.000000   \n",
       "25%       32.00000    102.000000      1.000000    999.000000      0.000000   \n",
       "50%       38.00000    180.000000      2.000000    999.000000      0.000000   \n",
       "75%       47.00000    319.000000      3.000000    999.000000      0.000000   \n",
       "max       98.00000   4918.000000     56.000000    999.000000      7.000000   \n",
       "\n",
       "       emp.var.rate  cons.price.idx  cons.conf.idx     euribor3m   nr.employed  \n",
       "count  41188.000000    41188.000000   41188.000000  41188.000000  41188.000000  \n",
       "mean       0.081886       93.575664     -40.502600      3.621291   5167.035911  \n",
       "std        1.570960        0.578840       4.628198      1.734447     72.251528  \n",
       "min       -3.400000       92.201000     -50.800000      0.634000   4963.600000  \n",
       "25%       -1.800000       93.075000     -42.700000      1.344000   5099.100000  \n",
       "50%        1.100000       93.749000     -41.800000      4.857000   5191.000000  \n",
       "75%        1.400000       93.994000     -36.400000      4.961000   5228.100000  \n",
       "max        1.400000       94.767000     -26.900000      5.045000   5228.100000  "
      ]
     },
     "execution_count": 4,
     "metadata": {},
     "output_type": "execute_result"
    }
   ],
   "source": [
    "df.describe()"
   ]
  },
  {
   "cell_type": "markdown",
   "id": "678e14e2",
   "metadata": {},
   "source": [
    "### DATA PRE-PROCESSING"
   ]
  },
  {
   "cell_type": "code",
   "execution_count": 5,
   "id": "ff46e9e9",
   "metadata": {},
   "outputs": [
    {
     "name": "stdout",
     "output_type": "stream",
     "text": [
      "Duplicate values in the bank dataset are:  12\n",
      "After Dropping Duplicate values in the bank dataset are:  0\n"
     ]
    }
   ],
   "source": [
    "#Checking and Removing Duplicate Values\n",
    "\n",
    "print('Duplicate values in the bank dataset are: ', df.duplicated().sum())\n",
    "\n",
    "df.drop_duplicates(inplace=True)\n",
    "\n",
    "print('After Dropping Duplicate values in the bank dataset are: ', df.duplicated().sum())"
   ]
  },
  {
   "cell_type": "code",
   "execution_count": 6,
   "id": "db5d54ec",
   "metadata": {},
   "outputs": [
    {
     "name": "stdout",
     "output_type": "stream",
     "text": [
      "0\n"
     ]
    }
   ],
   "source": [
    "#Removing Null values\n",
    "\n",
    "print(df.isnull().sum().sum())"
   ]
  },
  {
   "cell_type": "code",
   "execution_count": 7,
   "id": "ca04c259",
   "metadata": {
    "scrolled": true
   },
   "outputs": [
    {
     "name": "stderr",
     "output_type": "stream",
     "text": [
      "C:\\Users\\spoor\\anaconda3\\lib\\site-packages\\seaborn\\_decorators.py:36: FutureWarning: Pass the following variable as a keyword arg: x. From version 0.12, the only valid positional argument will be `data`, and passing other arguments without an explicit keyword will result in an error or misinterpretation.\n",
      "  warnings.warn(\n"
     ]
    },
    {
     "data": {
      "text/plain": [
       "<AxesSubplot:xlabel='y', ylabel='count'>"
      ]
     },
     "execution_count": 7,
     "metadata": {},
     "output_type": "execute_result"
    },
    {
     "data": {
      "image/png": "[encoded data removed]",
      "text/plain": [
       "<Figure size 432x288 with 1 Axes>"
      ]
     },
     "metadata": {
      "needs_background": "light"
     },
     "output_type": "display_data"
    }
   ],
   "source": [
    "#Checking Class Imbalance\n",
    "\n",
    "sns.countplot('y',data=df, palette= \"Set3\")"
   ]
  },
  {
   "cell_type": "code",
   "execution_count": 8,
   "id": "a2b186c3",
   "metadata": {},
   "outputs": [
    {
     "name": "stdout",
     "output_type": "stream",
     "text": [
      "(36537, 21)\n",
      "(4639, 21)\n"
     ]
    }
   ],
   "source": [
    "df_classe_majority = df[df.y=='no'] \n",
    "df_classe_minority = df[df.y=='yes']\n",
    "\n",
    "\n",
    "print(df_classe_majority.shape)\n",
    "print(df_classe_minority.shape)\n"
   ]
  },
  {
   "cell_type": "code",
   "execution_count": 9,
   "id": "cae41ae8",
   "metadata": {},
   "outputs": [],
   "source": [
    "# Upsample of minority class\n",
    "from sklearn.utils import resample\n",
    "df_classe_minority_upsampled = resample(df_classe_minority,\n",
    "                                           replace = True,\n",
    "                                           n_samples = df_classe_majority.shape[0] )"
   ]
  },
  {
   "cell_type": "code",
   "execution_count": 10,
   "id": "9f59ca86",
   "metadata": {},
   "outputs": [
    {
     "data": {
      "text/plain": [
       "(36537, 21)"
      ]
     },
     "execution_count": 10,
     "metadata": {},
     "output_type": "execute_result"
    }
   ],
   "source": [
    "df_classe_minority_upsampled.shape"
   ]
  },
  {
   "cell_type": "code",
   "execution_count": 11,
   "id": "f06561e0",
   "metadata": {},
   "outputs": [
    {
     "data": {
      "text/plain": [
       "(73074, 21)"
      ]
     },
     "execution_count": 11,
     "metadata": {},
     "output_type": "execute_result"
    }
   ],
   "source": [
    "df_balanced_data = pd.concat([df_classe_majority, df_classe_minority_upsampled])\n",
    "df_balanced_data.shape"
   ]
  },
  {
   "cell_type": "markdown",
   "id": "0b43528a",
   "metadata": {},
   "source": [
    "### Making Class Balance"
   ]
  },
  {
   "cell_type": "code",
   "execution_count": 12,
   "id": "06b351cc",
   "metadata": {
    "scrolled": true
   },
   "outputs": [
    {
     "name": "stderr",
     "output_type": "stream",
     "text": [
      "C:\\Users\\spoor\\anaconda3\\lib\\site-packages\\seaborn\\_decorators.py:36: FutureWarning: Pass the following variable as a keyword arg: x. From version 0.12, the only valid positional argument will be `data`, and passing other arguments without an explicit keyword will result in an error or misinterpretation.\n",
      "  warnings.warn(\n"
     ]
    },
    {
     "data": {
      "text/plain": [
       "<AxesSubplot:xlabel='y', ylabel='count'>"
      ]
     },
     "execution_count": 12,
     "metadata": {},
     "output_type": "execute_result"
    },
    {
     "data": {
      "image/png": "[encoded data removed]",
      "text/plain": [
       "<Figure size 432x288 with 1 Axes>"
      ]
     },
     "metadata": {
      "needs_background": "light"
     },
     "output_type": "display_data"
    }
   ],
   "source": [
    "sns.countplot('y',data=df_balanced_data, palette=\"Set3\")"
   ]
  },
  {
   "cell_type": "code",
   "execution_count": 13,
   "id": "8dac5344",
   "metadata": {},
   "outputs": [],
   "source": [
    "\n",
    "df_balanced_data.loan = df_balanced_data.loan.map({'yes': 1, 'unknown': 0, 'no' : 0}).astype('uint8')\n",
    "df_balanced_data.housing = df_balanced_data.housing.map({'yes': 1, 'unknown': 0, 'no' : 0}).astype('uint8')\n",
    "df_balanced_data.default = df_balanced_data.default.map({'no': 1, 'unknown': 0, 'yes': 0}).astype('uint8')"
   ]
  },
  {
   "cell_type": "code",
   "execution_count": 14,
   "id": "d713c8ca",
   "metadata": {},
   "outputs": [
    {
     "name": "stdout",
     "output_type": "stream",
     "text": [
      "job\n",
      "marital\n",
      "education\n",
      "contact\n",
      "month\n",
      "day_of_week\n",
      "poutcome\n",
      "y\n"
     ]
    }
   ],
   "source": [
    "cat_var=[]\n",
    "\n",
    "for col in df_balanced_data.columns:\n",
    "    if df_balanced_data[col].dtypes==\"O\":\n",
    "        cat_var.append(col)\n",
    "        print(col)\n",
    "        \n",
    "from sklearn.preprocessing import LabelEncoder\n",
    "le = LabelEncoder()\n",
    "\n",
    "\n",
    "for i in cat_var:\n",
    "    df_balanced_data[i]= le.fit_transform(df_balanced_data[i])"
   ]
  },
  {
   "cell_type": "code",
   "execution_count": 15,
   "id": "9ef4c214",
   "metadata": {},
   "outputs": [
    {
     "data": {
      "text/html": [
       "<div>\n",
       "<style scoped>\n",
       "    .dataframe tbody tr th:only-of-type {\n",
       "        vertical-align: middle;\n",
       "    }\n",
       "\n",
       "    .dataframe tbody tr th {\n",
       "        vertical-align: top;\n",
       "    }\n",
       "\n",
       "    .dataframe thead th {\n",
       "        text-align: right;\n",
       "    }\n",
       "</style>\n",
       "<table border=\"1\" class=\"dataframe\">\n",
       "  <thead>\n",
       "    <tr style=\"text-align: right;\">\n",
       "      <th></th>\n",
       "      <th>age</th>\n",
       "      <th>job</th>\n",
       "      <th>marital</th>\n",
       "      <th>education</th>\n",
       "      <th>default</th>\n",
       "      <th>housing</th>\n",
       "      <th>loan</th>\n",
       "      <th>contact</th>\n",
       "      <th>month</th>\n",
       "      <th>day_of_week</th>\n",
       "      <th>...</th>\n",
       "      <th>campaign</th>\n",
       "      <th>pdays</th>\n",
       "      <th>previous</th>\n",
       "      <th>poutcome</th>\n",
       "      <th>emp.var.rate</th>\n",
       "      <th>cons.price.idx</th>\n",
       "      <th>cons.conf.idx</th>\n",
       "      <th>euribor3m</th>\n",
       "      <th>nr.employed</th>\n",
       "      <th>y</th>\n",
       "    </tr>\n",
       "  </thead>\n",
       "  <tbody>\n",
       "    <tr>\n",
       "      <th>0</th>\n",
       "      <td>56</td>\n",
       "      <td>3</td>\n",
       "      <td>1</td>\n",
       "      <td>0</td>\n",
       "      <td>1</td>\n",
       "      <td>0</td>\n",
       "      <td>0</td>\n",
       "      <td>1</td>\n",
       "      <td>6</td>\n",
       "      <td>1</td>\n",
       "      <td>...</td>\n",
       "      <td>1</td>\n",
       "      <td>999</td>\n",
       "      <td>0</td>\n",
       "      <td>1</td>\n",
       "      <td>1.1</td>\n",
       "      <td>93.994</td>\n",
       "      <td>-36.4</td>\n",
       "      <td>4.857</td>\n",
       "      <td>5191.0</td>\n",
       "      <td>0</td>\n",
       "    </tr>\n",
       "    <tr>\n",
       "      <th>1</th>\n",
       "      <td>57</td>\n",
       "      <td>7</td>\n",
       "      <td>1</td>\n",
       "      <td>3</td>\n",
       "      <td>0</td>\n",
       "      <td>0</td>\n",
       "      <td>0</td>\n",
       "      <td>1</td>\n",
       "      <td>6</td>\n",
       "      <td>1</td>\n",
       "      <td>...</td>\n",
       "      <td>1</td>\n",
       "      <td>999</td>\n",
       "      <td>0</td>\n",
       "      <td>1</td>\n",
       "      <td>1.1</td>\n",
       "      <td>93.994</td>\n",
       "      <td>-36.4</td>\n",
       "      <td>4.857</td>\n",
       "      <td>5191.0</td>\n",
       "      <td>0</td>\n",
       "    </tr>\n",
       "    <tr>\n",
       "      <th>2</th>\n",
       "      <td>37</td>\n",
       "      <td>7</td>\n",
       "      <td>1</td>\n",
       "      <td>3</td>\n",
       "      <td>1</td>\n",
       "      <td>1</td>\n",
       "      <td>0</td>\n",
       "      <td>1</td>\n",
       "      <td>6</td>\n",
       "      <td>1</td>\n",
       "      <td>...</td>\n",
       "      <td>1</td>\n",
       "      <td>999</td>\n",
       "      <td>0</td>\n",
       "      <td>1</td>\n",
       "      <td>1.1</td>\n",
       "      <td>93.994</td>\n",
       "      <td>-36.4</td>\n",
       "      <td>4.857</td>\n",
       "      <td>5191.0</td>\n",
       "      <td>0</td>\n",
       "    </tr>\n",
       "    <tr>\n",
       "      <th>3</th>\n",
       "      <td>40</td>\n",
       "      <td>0</td>\n",
       "      <td>1</td>\n",
       "      <td>1</td>\n",
       "      <td>1</td>\n",
       "      <td>0</td>\n",
       "      <td>0</td>\n",
       "      <td>1</td>\n",
       "      <td>6</td>\n",
       "      <td>1</td>\n",
       "      <td>...</td>\n",
       "      <td>1</td>\n",
       "      <td>999</td>\n",
       "      <td>0</td>\n",
       "      <td>1</td>\n",
       "      <td>1.1</td>\n",
       "      <td>93.994</td>\n",
       "      <td>-36.4</td>\n",
       "      <td>4.857</td>\n",
       "      <td>5191.0</td>\n",
       "      <td>0</td>\n",
       "    </tr>\n",
       "    <tr>\n",
       "      <th>4</th>\n",
       "      <td>56</td>\n",
       "      <td>7</td>\n",
       "      <td>1</td>\n",
       "      <td>3</td>\n",
       "      <td>1</td>\n",
       "      <td>0</td>\n",
       "      <td>1</td>\n",
       "      <td>1</td>\n",
       "      <td>6</td>\n",
       "      <td>1</td>\n",
       "      <td>...</td>\n",
       "      <td>1</td>\n",
       "      <td>999</td>\n",
       "      <td>0</td>\n",
       "      <td>1</td>\n",
       "      <td>1.1</td>\n",
       "      <td>93.994</td>\n",
       "      <td>-36.4</td>\n",
       "      <td>4.857</td>\n",
       "      <td>5191.0</td>\n",
       "      <td>0</td>\n",
       "    </tr>\n",
       "  </tbody>\n",
       "</table>\n",
       "<p>5 rows × 21 columns</p>\n",
       "</div>"
      ],
      "text/plain": [
       "   age  job  marital  education  default  housing  loan  contact  month  \\\n",
       "0   56    3        1          0        1        0     0        1      6   \n",
       "1   57    7        1          3        0        0     0        1      6   \n",
       "2   37    7        1          3        1        1     0        1      6   \n",
       "3   40    0        1          1        1        0     0        1      6   \n",
       "4   56    7        1          3        1        0     1        1      6   \n",
       "\n",
       "   day_of_week  ...  campaign  pdays  previous  poutcome  emp.var.rate  \\\n",
       "0            1  ...         1    999         0         1           1.1   \n",
       "1            1  ...         1    999         0         1           1.1   \n",
       "2            1  ...         1    999         0         1           1.1   \n",
       "3            1  ...         1    999         0         1           1.1   \n",
       "4            1  ...         1    999         0         1           1.1   \n",
       "\n",
       "   cons.price.idx  cons.conf.idx  euribor3m  nr.employed  y  \n",
       "0          93.994          -36.4      4.857       5191.0  0  \n",
       "1          93.994          -36.4      4.857       5191.0  0  \n",
       "2          93.994          -36.4      4.857       5191.0  0  \n",
       "3          93.994          -36.4      4.857       5191.0  0  \n",
       "4          93.994          -36.4      4.857       5191.0  0  \n",
       "\n",
       "[5 rows x 21 columns]"
      ]
     },
     "execution_count": 15,
     "metadata": {},
     "output_type": "execute_result"
    }
   ],
   "source": [
    "df_balanced_data.head()"
   ]
  },
  {
   "cell_type": "code",
   "execution_count": 16,
   "id": "c666a007",
   "metadata": {},
   "outputs": [
    {
     "name": "stdout",
     "output_type": "stream",
     "text": [
      "<class 'pandas.core.frame.DataFrame'>\n",
      "Int64Index: 73074 entries, 0 to 37430\n",
      "Data columns (total 21 columns):\n",
      " #   Column          Non-Null Count  Dtype  \n",
      "---  ------          --------------  -----  \n",
      " 0   age             73074 non-null  int64  \n",
      " 1   job             73074 non-null  int32  \n",
      " 2   marital         73074 non-null  int32  \n",
      " 3   education       73074 non-null  int32  \n",
      " 4   default         73074 non-null  uint8  \n",
      " 5   housing         73074 non-null  uint8  \n",
      " 6   loan            73074 non-null  uint8  \n",
      " 7   contact         73074 non-null  int32  \n",
      " 8   month           73074 non-null  int32  \n",
      " 9   day_of_week     73074 non-null  int32  \n",
      " 10  duration        73074 non-null  int64  \n",
      " 11  campaign        73074 non-null  int64  \n",
      " 12  pdays           73074 non-null  int64  \n",
      " 13  previous        73074 non-null  int64  \n",
      " 14  poutcome        73074 non-null  int32  \n",
      " 15  emp.var.rate    73074 non-null  float64\n",
      " 16  cons.price.idx  73074 non-null  float64\n",
      " 17  cons.conf.idx   73074 non-null  float64\n",
      " 18  euribor3m       73074 non-null  float64\n",
      " 19  nr.employed     73074 non-null  float64\n",
      " 20  y               73074 non-null  int32  \n",
      "dtypes: float64(5), int32(8), int64(5), uint8(3)\n",
      "memory usage: 10.6 MB\n"
     ]
    }
   ],
   "source": [
    "df_balanced_data.info()"
   ]
  },
  {
   "cell_type": "code",
   "execution_count": 17,
   "id": "36e053cb",
   "metadata": {
    "scrolled": true
   },
   "outputs": [
    {
     "data": {
      "text/plain": [
       "y                1.000000\n",
       "duration         0.458636\n",
       "previous         0.261236\n",
       "default          0.174451\n",
       "poutcome         0.154758\n",
       "education        0.092403\n",
       "marital          0.073899\n",
       "cons.conf.idx    0.071409\n",
       "job              0.041013\n",
       "age              0.040191\n",
       "Name: y, dtype: float64"
      ]
     },
     "execution_count": 17,
     "metadata": {},
     "output_type": "execute_result"
    }
   ],
   "source": [
    "corr_matrix = df_balanced_data.corr()\n",
    "corr_matrix['y'].sort_values(ascending=False).head(10)"
   ]
  },
  {
   "cell_type": "code",
   "execution_count": 18,
   "id": "fe9cc509",
   "metadata": {},
   "outputs": [],
   "source": [
    "selected=['duration','previous', 'default', 'poutcome','education','age', 'job']"
   ]
  },
  {
   "cell_type": "code",
   "execution_count": 19,
   "id": "21e15c73",
   "metadata": {},
   "outputs": [],
   "source": [
    "x= pd.DataFrame()"
   ]
  },
  {
   "cell_type": "code",
   "execution_count": 20,
   "id": "06c6ace0",
   "metadata": {},
   "outputs": [],
   "source": [
    "for col in selected:\n",
    "    x[col]=df_balanced_data[col]"
   ]
  },
  {
   "cell_type": "code",
   "execution_count": 21,
   "id": "ab5b7f66",
   "metadata": {},
   "outputs": [],
   "source": [
    "#Creating Independent and Depepndent Variable\n",
    "\n",
    "X = x #independent columns\n",
    "y = df_balanced_data.iloc[:,-1]    #target column i.e price range"
   ]
  },
  {
   "cell_type": "code",
   "execution_count": 22,
   "id": "2099296d",
   "metadata": {},
   "outputs": [],
   "source": [
    "#Scaling variables\n",
    "\n",
    "scaler = StandardScaler()\n",
    "X_scaled = scaler.fit_transform(X)"
   ]
  },
  {
   "cell_type": "code",
   "execution_count": 23,
   "id": "034deb32",
   "metadata": {},
   "outputs": [
    {
     "name": "stdout",
     "output_type": "stream",
     "text": [
      "(58459, 7)\n",
      "(14615, 7)\n",
      "(58459,)\n",
      "(14615,)\n"
     ]
    }
   ],
   "source": [
    "# splitting the data in train and test\n",
    "\n",
    "X_train,X_test,y_train,y_test = train_test_split(X_scaled,y,test_size=0.2, random_state=0)\n",
    "\n",
    "print(X_train.shape)\n",
    "print(X_test.shape)\n",
    "print(y_train.shape)\n",
    "print(y_test.shape)"
   ]
  },
  {
   "cell_type": "code",
   "execution_count": 24,
   "id": "2e2b528b",
   "metadata": {},
   "outputs": [
    {
     "name": "stdout",
     "output_type": "stream",
     "text": [
      "(52613, 7)\n",
      "(5846, 7)\n",
      "(52613,)\n",
      "(5846,)\n"
     ]
    }
   ],
   "source": [
    "# Further splitting the training data in train and validation \n",
    "\n",
    "feature_train, feature_val, label_train, label_val = train_test_split(X_train, y_train, test_size = 0.1, random_state=0)\n",
    "\n",
    "\n",
    "print(feature_train.shape)\n",
    "print(feature_val.shape)\n",
    "print(label_train.shape)\n",
    "print(label_val.shape)"
   ]
  },
  {
   "cell_type": "markdown",
   "id": "3a30f314",
   "metadata": {},
   "source": [
    "### Creating the Model"
   ]
  },
  {
   "cell_type": "code",
   "execution_count": 25,
   "id": "0bebeead",
   "metadata": {},
   "outputs": [
    {
     "name": "stdout",
     "output_type": "stream",
     "text": [
      "Model: \"sequential\"\n",
      "_________________________________________________________________\n",
      " Layer (type)                Output Shape              Param #   \n",
      "=================================================================\n",
      " input (Dense)               (None, 16)                128       \n",
      "                                                                 \n",
      " hidden_1 (Dense)            (None, 32)                544       \n",
      "                                                                 \n",
      " hidden_2 (Dense)            (None, 64)                2112      \n",
      "                                                                 \n",
      " hidden_3 (Dense)            (None, 128)               8320      \n",
      "                                                                 \n",
      " hidden_4 (Dense)            (None, 256)               33024     \n",
      "                                                                 \n",
      " hidden_5 (Dense)            (None, 512)               131584    \n",
      "                                                                 \n",
      " hidden_6 (Dense)            (None, 512)               262656    \n",
      "                                                                 \n",
      " output (Dense)              (None, 1)                 513       \n",
      "                                                                 \n",
      "=================================================================\n",
      "Total params: 438,881\n",
      "Trainable params: 438,881\n",
      "Non-trainable params: 0\n",
      "_________________________________________________________________\n",
      "None\n"
     ]
    }
   ],
   "source": [
    "model = Sequential()\n",
    "\n",
    "model.add(Dense(16, input_dim=7, activation='relu', name= 'input'))\n",
    "model.add(Dense(32, activation='relu', name= 'hidden_1'))\n",
    "model.add(Dense(64, activation='relu', name= 'hidden_2'))\n",
    "model.add(Dense(128, activation='relu', name= 'hidden_3'))\n",
    "model.add(Dense(256, activation='relu', name= 'hidden_4'))\n",
    "model.add(Dense(512, activation='relu', name= 'hidden_5'))\n",
    "model.add(Dense(512, activation='relu', name= 'hidden_6'))\n",
    "model.add(Dense(1, input_dim=7, activation='sigmoid', name= 'output'))\n",
    "\n",
    "#Adding the optimizer\n",
    "\n",
    "opt = Adam(learning_rate= 0.001)\n",
    "model.compile(optimizer=opt, loss='binary_crossentropy', metrics= ['accuracy'])\n",
    "\n",
    "\n",
    "log_dir = \"logs/fit/\" + datetime.datetime.now().strftime(\"%Y%m%d-%H%M%S\")\n",
    "tensorboard_callback = tf.keras.callbacks.TensorBoard(log_dir=log_dir, histogram_freq=1)\n",
    "\n",
    "print(model.summary())\n"
   ]
  },
  {
   "cell_type": "markdown",
   "id": "98339002",
   "metadata": {},
   "source": [
    "### Fitting the Model"
   ]
  },
  {
   "cell_type": "code",
   "execution_count": 26,
   "id": "6de38585",
   "metadata": {
    "scrolled": true
   },
   "outputs": [
    {
     "name": "stdout",
     "output_type": "stream",
     "text": [
      "Epoch 1/30\n",
      "301/301 [==============================] - 4s 12ms/step - loss: 0.4400 - accuracy: 0.7991 - val_loss: 0.4322 - val_accuracy: 0.7982\n",
      "Epoch 2/30\n",
      "301/301 [==============================] - 3s 11ms/step - loss: 0.4109 - accuracy: 0.8159 - val_loss: 0.4192 - val_accuracy: 0.8113\n",
      "Epoch 3/30\n",
      "301/301 [==============================] - 3s 9ms/step - loss: 0.4046 - accuracy: 0.8183 - val_loss: 0.4264 - val_accuracy: 0.8040\n",
      "Epoch 4/30\n",
      "301/301 [==============================] - 3s 9ms/step - loss: 0.4009 - accuracy: 0.8194 - val_loss: 0.4138 - val_accuracy: 0.8132\n",
      "Epoch 5/30\n",
      "301/301 [==============================] - 3s 9ms/step - loss: 0.3962 - accuracy: 0.8199 - val_loss: 0.4127 - val_accuracy: 0.8139\n",
      "Epoch 6/30\n",
      "301/301 [==============================] - 3s 9ms/step - loss: 0.3948 - accuracy: 0.8207 - val_loss: 0.4078 - val_accuracy: 0.8175\n",
      "Epoch 7/30\n",
      "301/301 [==============================] - 3s 11ms/step - loss: 0.3920 - accuracy: 0.8227 - val_loss: 0.4043 - val_accuracy: 0.8182\n",
      "Epoch 8/30\n",
      "301/301 [==============================] - 3s 11ms/step - loss: 0.3890 - accuracy: 0.8234 - val_loss: 0.4052 - val_accuracy: 0.8158\n",
      "Epoch 9/30\n",
      "301/301 [==============================] - 3s 10ms/step - loss: 0.3879 - accuracy: 0.8249 - val_loss: 0.4120 - val_accuracy: 0.8190\n",
      "Epoch 10/30\n",
      "301/301 [==============================] - 3s 10ms/step - loss: 0.3828 - accuracy: 0.8263 - val_loss: 0.4106 - val_accuracy: 0.8110\n",
      "Epoch 11/30\n",
      "301/301 [==============================] - 3s 11ms/step - loss: 0.3804 - accuracy: 0.8285 - val_loss: 0.4189 - val_accuracy: 0.8185\n",
      "Epoch 12/30\n",
      "301/301 [==============================] - 3s 11ms/step - loss: 0.3779 - accuracy: 0.8293 - val_loss: 0.3911 - val_accuracy: 0.8254\n",
      "Epoch 13/30\n",
      "301/301 [==============================] - 3s 11ms/step - loss: 0.3744 - accuracy: 0.8310 - val_loss: 0.3951 - val_accuracy: 0.8231\n",
      "Epoch 14/30\n",
      "301/301 [==============================] - 3s 10ms/step - loss: 0.3701 - accuracy: 0.8324 - val_loss: 0.3989 - val_accuracy: 0.8204\n",
      "Epoch 15/30\n",
      "301/301 [==============================] - 3s 9ms/step - loss: 0.3707 - accuracy: 0.8327 - val_loss: 0.3885 - val_accuracy: 0.8257\n",
      "Epoch 16/30\n",
      "301/301 [==============================] - 3s 9ms/step - loss: 0.3655 - accuracy: 0.8347 - val_loss: 0.3839 - val_accuracy: 0.8279\n",
      "Epoch 17/30\n",
      "301/301 [==============================] - 3s 10ms/step - loss: 0.3627 - accuracy: 0.8371 - val_loss: 0.3859 - val_accuracy: 0.8279\n",
      "Epoch 18/30\n",
      "301/301 [==============================] - 3s 9ms/step - loss: 0.3596 - accuracy: 0.8377 - val_loss: 0.3789 - val_accuracy: 0.8293\n",
      "Epoch 19/30\n",
      "301/301 [==============================] - 3s 9ms/step - loss: 0.3571 - accuracy: 0.8383 - val_loss: 0.3829 - val_accuracy: 0.8279\n",
      "Epoch 20/30\n",
      "301/301 [==============================] - 3s 10ms/step - loss: 0.3549 - accuracy: 0.8406 - val_loss: 0.3798 - val_accuracy: 0.8286\n",
      "Epoch 21/30\n",
      "301/301 [==============================] - 3s 9ms/step - loss: 0.3513 - accuracy: 0.8416 - val_loss: 0.3767 - val_accuracy: 0.8288\n",
      "Epoch 22/30\n",
      "301/301 [==============================] - 3s 10ms/step - loss: 0.3484 - accuracy: 0.8439 - val_loss: 0.3740 - val_accuracy: 0.8281\n",
      "Epoch 23/30\n",
      "301/301 [==============================] - 3s 10ms/step - loss: 0.3449 - accuracy: 0.8458 - val_loss: 0.3747 - val_accuracy: 0.8310\n",
      "Epoch 24/30\n",
      "301/301 [==============================] - 3s 10ms/step - loss: 0.3423 - accuracy: 0.8463 - val_loss: 0.3717 - val_accuracy: 0.8327\n",
      "Epoch 25/30\n",
      "301/301 [==============================] - 3s 10ms/step - loss: 0.3402 - accuracy: 0.8473 - val_loss: 0.3637 - val_accuracy: 0.8365\n",
      "Epoch 26/30\n",
      "301/301 [==============================] - 3s 10ms/step - loss: 0.3354 - accuracy: 0.8496 - val_loss: 0.3653 - val_accuracy: 0.8360\n",
      "Epoch 27/30\n",
      "301/301 [==============================] - 3s 11ms/step - loss: 0.3333 - accuracy: 0.8516 - val_loss: 0.3695 - val_accuracy: 0.8307\n",
      "Epoch 28/30\n",
      "301/301 [==============================] - 3s 11ms/step - loss: 0.3316 - accuracy: 0.8525 - val_loss: 0.3636 - val_accuracy: 0.8363\n",
      "Epoch 29/30\n",
      "301/301 [==============================] - 3s 10ms/step - loss: 0.3301 - accuracy: 0.8531 - val_loss: 0.3557 - val_accuracy: 0.8370\n",
      "Epoch 30/30\n",
      "301/301 [==============================] - 3s 10ms/step - loss: 0.3241 - accuracy: 0.8562 - val_loss: 0.3714 - val_accuracy: 0.8329\n"
     ]
    },
    {
     "data": {
      "text/plain": [
       "Reusing TensorBoard on port 6006 (pid 26232), started 8:32:08 ago. (Use '!kill 26232' to kill it.)"
      ]
     },
     "metadata": {},
     "output_type": "display_data"
    },
    {
     "data": {
      "text/html": [
       "\n",
       "      <iframe id=\"tensorboard-frame-1a79c5ebf051ab36\" width=\"100%\" height=\"800\" frameborder=\"0\">\n",
       "      </iframe>\n",
       "      <script>\n",
       "        (function() {\n",
       "          const frame = document.getElementById(\"tensorboard-frame-1a79c5ebf051ab36\");\n",
       "          const url = new URL(\"/\", window.location);\n",
       "          const port = 6006;\n",
       "          if (port) {\n",
       "            url.port = port;\n",
       "          }\n",
       "          frame.src = url;\n",
       "        })();\n",
       "      </script>\n",
       "    "
      ],
      "text/plain": [
       "<IPython.core.display.HTML object>"
      ]
     },
     "metadata": {},
     "output_type": "display_data"
    }
   ],
   "source": [
    "training_results = model.fit(x=feature_train, \n",
    "                             y=label_train, \n",
    "                             verbose=1, \n",
    "                             batch_size=175, \n",
    "                             epochs=30 , \n",
    "                             validation_data= (feature_val,label_val),\n",
    "                             callbacks=[tensorboard_callback])\n",
    "\n",
    "#Visualizing the tensorboard\n",
    "%tensorboard --logdir logs/fit"
   ]
  },
  {
   "cell_type": "markdown",
   "id": "50f6eaf2",
   "metadata": {},
   "source": [
    "### Plotting accuracy and loss for validation and train dataset"
   ]
  },
  {
   "cell_type": "code",
   "execution_count": 27,
   "id": "42f61edb",
   "metadata": {},
   "outputs": [
    {
     "name": "stdout",
     "output_type": "stream",
     "text": [
      "dict_keys(['loss', 'accuracy', 'val_loss', 'val_accuracy'])\n"
     ]
    },
    {
     "data": {
      "image/png": "[encoded data removed]",
      "text/plain": [
       "<Figure size 432x288 with 1 Axes>"
      ]
     },
     "metadata": {
      "needs_background": "light"
     },
     "output_type": "display_data"
    },
    {
     "data": {
      "image/png": "[encoded data removed]",
      "text/plain": [
       "<Figure size 432x288 with 1 Axes>"
      ]
     },
     "metadata": {
      "needs_background": "light"
     },
     "output_type": "display_data"
    }
   ],
   "source": [
    "# list all data in history\n",
    "print(training_results.history.keys())\n",
    "#summarize history for accuracy\n",
    "#plt.figure(figsize=(20,20))\n",
    "plt.plot(training_results.history['accuracy'])\n",
    "plt.plot(training_results.history['val_accuracy'])\n",
    "plt.title('model accuracy')\n",
    "plt.ylabel('accuracy')\n",
    "plt.xlabel('epoch')\n",
    "plt.legend(['train', 'test'], loc='upper left')\n",
    "plt.show()\n",
    "# summarize history for loss\n",
    "plt.plot(training_results.history['loss'])\n",
    "plt.plot(training_results.history['val_loss'])\n",
    "plt.title('model loss')\n",
    "plt.ylabel('loss')\n",
    "plt.xlabel('epoch')\n",
    "plt.legend(['train', 'test'], loc='upper left')\n",
    "plt.show()"
   ]
  },
  {
   "cell_type": "markdown",
   "id": "2bdad47f",
   "metadata": {},
   "source": [
    "### Evaluating the results of the model "
   ]
  },
  {
   "cell_type": "code",
   "execution_count": 28,
   "id": "dbbf2427",
   "metadata": {},
   "outputs": [
    {
     "name": "stdout",
     "output_type": "stream",
     "text": [
      "457/457 - 1s - loss: 0.3477 - accuracy: 0.8441 - 1s/epoch - 3ms/step\n",
      "Loss: 0.3476640582084656\n",
      "Accuracy: 0.8441327214241028\n"
     ]
    }
   ],
   "source": [
    "results = model.evaluate(X_test, y_test, verbose=2)\n",
    "\n",
    "print(\"Loss:\", results[0])\n",
    "print(\"Accuracy:\", results[1])"
   ]
  },
  {
   "cell_type": "markdown",
   "id": "d0264742",
   "metadata": {},
   "source": [
    "### Exporting the Model"
   ]
  },
  {
   "cell_type": "code",
   "execution_count": 29,
   "id": "95da8d2b",
   "metadata": {},
   "outputs": [
    {
     "name": "stdout",
     "output_type": "stream",
     "text": [
      "INFO:tensorflow:Assets written to: C:/Users/spoor/Desktop/cis-325/Final Exam/saved_model/2\\assets\n"
     ]
    }
   ],
   "source": [
    "# Save the entire model as a SavedModel.\n",
    "\n",
    "model.save(os.getcwd().replace(\"\\\\\",\"/\")+'/saved_model/3')"
   ]
  },
  {
   "cell_type": "code",
   "execution_count": null,
   "id": "5145713a",
   "metadata": {},
   "outputs": [],
   "source": []
  }
 ],
 "metadata": {
  "kernelspec": {
   "display_name": "Python 3 (ipykernel)",
   "language": "python",
   "name": "python3"
  },
  "language_info": {
   "codemirror_mode": {
    "name": "ipython",
    "version": 3
   },
   "file_extension": ".py",
   "mimetype": "text/x-python",
   "name": "python",
   "nbconvert_exporter": "python",
   "pygments_lexer": "ipython3",
   "version": "3.9.7"
  }
 },
 "nbformat": 4,
 "nbformat_minor": 5
}
