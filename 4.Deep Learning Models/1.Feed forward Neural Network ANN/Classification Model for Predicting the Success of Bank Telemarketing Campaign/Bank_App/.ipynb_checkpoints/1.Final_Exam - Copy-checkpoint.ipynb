{
 "cells": [
  {
   "cell_type": "markdown",
   "id": "1cbe252b",
   "metadata": {},
   "source": [
    "##### Importing Libraries"
   ]
  },
  {
   "cell_type": "code",
   "execution_count": 1,
   "id": "724a6348",
   "metadata": {},
   "outputs": [],
   "source": [
    "import pandas as pd\n",
    "import numpy as np\n",
    "import seaborn as sns\n",
    "\n",
    "from keras.models import Sequential\n",
    "from keras.layers import Dense, Flatten, Conv2D\n",
    "from keras.optimizers import Adam\n",
    "\n",
    "from tensorflow.keras.utils import to_categorical\n",
    "from keras import optimizers\n",
    "from sklearn.preprocessing import OneHotEncoder, StandardScaler, LabelEncoder\n",
    "\n",
    "\n",
    "import matplotlib.pyplot as plt\n",
    "%matplotlib inline\n",
    "\n",
    "from sklearn.model_selection import train_test_split\n",
    "from sklearn.metrics import confusion_matrix\n",
    "\n",
    "import tensorflow as tf\n",
    "import datetime\n",
    "import random as rn\n",
    "\n",
    "import os\n",
    "from sklearn.utils import resample\n",
    "\n",
    "# Load the TensorBoard notebook extension\n",
    "%load_ext tensorboard"
   ]
  },
  {
   "cell_type": "markdown",
   "id": "c1ff84a5",
   "metadata": {},
   "source": [
    "##### Importing Dataset"
   ]
  },
  {
   "cell_type": "code",
   "execution_count": 2,
   "id": "ccfd87d2",
   "metadata": {
    "scrolled": true
   },
   "outputs": [],
   "source": [
    "bank_df = pd.read_csv(os.getcwd().replace(\"\\\\\",\"/\")+'/Dataset/'+'Bank-Telemarketing.csv')"
   ]
  },
  {
   "cell_type": "markdown",
   "id": "849d728f",
   "metadata": {},
   "source": [
    "##### Data Pre-processing "
   ]
  },
  {
   "cell_type": "code",
   "execution_count": 3,
   "id": "e83979fe",
   "metadata": {},
   "outputs": [
    {
     "name": "stdout",
     "output_type": "stream",
     "text": [
      "Before Removal : Duplicate values in the bank dataset are:  12\n",
      "After Removal : Duplicate values in the bank dataset are:  0\n",
      "Null Values : 0\n",
      "NO Response : 88.73 %\n",
      "YES Response : 11.27 %\n",
      "\n",
      "Class is Imbalanced\n",
      "NO Response : 50.00 %\n",
      "YES Response : 50.00 %\n",
      "\n",
      "Class is Balanced\n"
     ]
    }
   ],
   "source": [
    "# Looking for Duplicate Values\n",
    "print('Before Removal : Duplicate values in the bank dataset are: ', bank_df.duplicated().sum())\n",
    "bank_df.drop_duplicates(inplace=True)\n",
    "\n",
    "print('After Removal : Duplicate values in the bank dataset are: ', bank_df.duplicated().sum())\n",
    "\n",
    "# Looking for Null Values\n",
    "print(\"Null Values :\",bank_df.isnull().sum().sum())\n",
    "\n",
    "# Looking for Class Imbalance\n",
    "class_no=(bank_df.y.value_counts()[0])/(bank_df.y.value_counts().sum())*100\n",
    "class_yes=(bank_df.y.value_counts()[1])/(bank_df.y.value_counts().sum())*100\n",
    "\n",
    "print(\"NO Response :\",\"%.2f\" % class_no,\"%\")\n",
    "print(\"YES Response :\",\"%.2f\" % class_yes,\"%\")\n",
    "\n",
    "if bank_df.y.value_counts()[0] != bank_df.y.value_counts()[1]:\n",
    "    print(\"\\nClass is Imbalanced\")\n",
    "    \n",
    "    bank_df_class_majority = bank_df[bank_df.y=='no'] \n",
    "    bank_df_class_minority = bank_df[bank_df.y=='yes']\n",
    "    \n",
    "    # Upsample of minority class\n",
    "    bank_df_class_minority_upsampled = resample(bank_df_class_minority,\n",
    "                                                replace = True,\n",
    "                                                n_samples = bank_df_class_majority.shape[0])\n",
    "    \n",
    "    bank_df_balanced_data = pd.concat([bank_df_class_majority, bank_df_class_minority_upsampled])\n",
    "    \n",
    "    # Again Looking for Class Imbalance\n",
    "    Nclass_no=(bank_df_balanced_data.y.value_counts()[0])/(bank_df_balanced_data.y.value_counts().sum())*100\n",
    "    Nclass_yes=(bank_df_balanced_data.y.value_counts()[1])/(bank_df_balanced_data.y.value_counts().sum())*100\n",
    "    print(\"NO Response :\",\"%.2f\" % Nclass_no,\"%\")\n",
    "    print(\"YES Response :\",\"%.2f\" % Nclass_yes,\"%\")\n",
    "\n",
    "    if bank_df_balanced_data.y.value_counts()[0] != bank_df_balanced_data.y.value_counts()[1]:\n",
    "        print(\"\\nClass is Imbalanced\")\n",
    "    else:\n",
    "        print(\"\\nClass is Balanced\")    \n",
    "    \n",
    "else:\n",
    "    print(\"\\nClass is Balanced\")\n",
    "    \n",
    "# Creating labels for Categorical Variables\n",
    "bank_df_balanced_data.loan = bank_df_balanced_data.loan.map({'yes': 1, 'unknown': 0, 'no' : 0}).astype('uint8')\n",
    "bank_df_balanced_data.housing = bank_df_balanced_data.housing.map({'yes': 1, 'unknown': 0, 'no' : 0}).astype('uint8')\n",
    "bank_df_balanced_data.default = bank_df_balanced_data.default.map({'no': 1, 'unknown': 0, 'yes': 0}).astype('uint8')\n",
    "\n",
    "categorical_var = []\n",
    "\n",
    "for col in bank_df_balanced_data.columns:\n",
    "    if bank_df_balanced_data[col].dtypes==\"O\":\n",
    "        categorical_var.append(col)\n",
    "        \n",
    "from sklearn.preprocessing import LabelEncoder\n",
    "le = LabelEncoder()\n",
    "\n",
    "for i in categorical_var:\n",
    "    bank_df_balanced_data[i]= le.fit_transform(bank_df_balanced_data[i])"
   ]
  },
  {
   "cell_type": "markdown",
   "id": "c9d4840c",
   "metadata": {},
   "source": [
    "##### Spliting Data"
   ]
  },
  {
   "cell_type": "code",
   "execution_count": 4,
   "id": "39cce51a",
   "metadata": {},
   "outputs": [],
   "source": [
    "#Creating Independent and Depepndent Variables\n",
    "\n",
    "X = bank_df_balanced_data.iloc[:,0:-1]  #independent columns\n",
    "y = bank_df_balanced_data.iloc[:,-1]    #target column\n",
    "\n",
    "#Scaling Independent variables\n",
    "scaler = StandardScaler()\n",
    "X_scaled = scaler.fit_transform(X)\n",
    "\n",
    "# Splitting the data into train and test\n",
    "X_train,X_test,y_train,y_test = train_test_split(X_scaled,y,test_size=0.2, random_state=0)\n",
    "\n",
    "# Further splitting the training data into train and validation\n",
    "feature_train, feature_val, label_train, label_val = train_test_split(X_train, y_train, test_size = 0.1, random_state=0)"
   ]
  },
  {
   "cell_type": "markdown",
   "id": "c1d790ec",
   "metadata": {},
   "source": [
    "##### Creating Model"
   ]
  },
  {
   "cell_type": "code",
   "execution_count": 5,
   "id": "82db66b2",
   "metadata": {},
   "outputs": [
    {
     "name": "stdout",
     "output_type": "stream",
     "text": [
      "Model: \"sequential\"\n",
      "_________________________________________________________________\n",
      " Layer (type)                Output Shape              Param #   \n",
      "=================================================================\n",
      " input (Dense)               (None, 16)                336       \n",
      "                                                                 \n",
      " hidden_1 (Dense)            (None, 32)                544       \n",
      "                                                                 \n",
      " hidden_2 (Dense)            (None, 32)                1056      \n",
      "                                                                 \n",
      " hidden_3 (Dense)            (None, 64)                2112      \n",
      "                                                                 \n",
      " hidden_4 (Dense)            (None, 64)                4160      \n",
      "                                                                 \n",
      " hidden_5 (Dense)            (None, 128)               8320      \n",
      "                                                                 \n",
      " hidden_6 (Dense)            (None, 128)               16512     \n",
      "                                                                 \n",
      " hidden_7 (Dense)            (None, 256)               33024     \n",
      "                                                                 \n",
      " hidden_8 (Dense)            (None, 256)               65792     \n",
      "                                                                 \n",
      " hidden_9 (Dense)            (None, 512)               131584    \n",
      "                                                                 \n",
      " hidden_10 (Dense)           (None, 512)               262656    \n",
      "                                                                 \n",
      " output (Dense)              (None, 1)                 513       \n",
      "                                                                 \n",
      "=================================================================\n",
      "Total params: 526,609\n",
      "Trainable params: 526,609\n",
      "Non-trainable params: 0\n",
      "_________________________________________________________________\n",
      "None\n"
     ]
    }
   ],
   "source": [
    "model = Sequential()\n",
    "\n",
    "model.add(Dense(16, input_dim=20, activation='relu', name= 'input'))\n",
    "model.add(Dense(32, activation='relu', name= 'hidden_1'))\n",
    "model.add(Dense(32, activation='relu', name= 'hidden_2'))\n",
    "model.add(Dense(64, activation='relu', name= 'hidden_3'))\n",
    "model.add(Dense(64, activation='relu', name= 'hidden_4'))\n",
    "model.add(Dense(128,activation='relu', name= 'hidden_5'))\n",
    "model.add(Dense(128,activation='relu', name= 'hidden_6'))\n",
    "model.add(Dense(256,activation='relu', name= 'hidden_7'))\n",
    "model.add(Dense(256,activation='relu', name= 'hidden_8'))\n",
    "model.add(Dense(512,activation='relu', name= 'hidden_9'))\n",
    "model.add(Dense(512,activation='relu', name= 'hidden_10'))\n",
    "model.add(Dense(1, input_dim=20, activation='sigmoid', name= 'output'))\n",
    "\n",
    "opt = Adam(learning_rate= 0.001)\n",
    "model.compile(optimizer=opt, loss='binary_crossentropy', metrics= ['accuracy'])\n",
    "\n",
    "log_dir = \"logs/fit/\" + datetime.datetime.now().strftime(\"%Y%m%d-%H%M%S\")\n",
    "tensorboard_callback = tf.keras.callbacks.TensorBoard(log_dir=log_dir, histogram_freq=1)\n",
    "\n",
    "print(model.summary())"
   ]
  },
  {
   "cell_type": "markdown",
   "id": "afd228dd",
   "metadata": {},
   "source": [
    "##### Training Model"
   ]
  },
  {
   "cell_type": "code",
   "execution_count": 6,
   "id": "408b4507",
   "metadata": {},
   "outputs": [
    {
     "name": "stdout",
     "output_type": "stream",
     "text": [
      "Epoch 1/35\n",
      "301/301 [==============================] - 4s 9ms/step - loss: 0.3902 - accuracy: 0.8282 - val_loss: 0.3287 - val_accuracy: 0.8676\n",
      "Epoch 2/35\n",
      "301/301 [==============================] - 3s 9ms/step - loss: 0.3100 - accuracy: 0.8704 - val_loss: 0.2959 - val_accuracy: 0.8811\n",
      "Epoch 3/35\n",
      "301/301 [==============================] - 3s 9ms/step - loss: 0.2947 - accuracy: 0.8785 - val_loss: 0.2888 - val_accuracy: 0.8833\n",
      "Epoch 4/35\n",
      "301/301 [==============================] - 3s 9ms/step - loss: 0.2822 - accuracy: 0.8849 - val_loss: 0.2884 - val_accuracy: 0.8868\n",
      "Epoch 5/35\n",
      "301/301 [==============================] - 3s 9ms/step - loss: 0.2753 - accuracy: 0.8893 - val_loss: 0.2685 - val_accuracy: 0.8933\n",
      "Epoch 6/35\n",
      "301/301 [==============================] - 3s 10ms/step - loss: 0.2670 - accuracy: 0.8938 - val_loss: 0.2607 - val_accuracy: 0.8980\n",
      "Epoch 7/35\n",
      "301/301 [==============================] - 3s 10ms/step - loss: 0.2597 - accuracy: 0.8969 - val_loss: 0.2572 - val_accuracy: 0.9001\n",
      "Epoch 8/35\n",
      "301/301 [==============================] - 3s 10ms/step - loss: 0.2534 - accuracy: 0.9010 - val_loss: 0.2497 - val_accuracy: 0.9018\n",
      "Epoch 9/35\n",
      "301/301 [==============================] - 3s 10ms/step - loss: 0.2465 - accuracy: 0.9038 - val_loss: 0.2588 - val_accuracy: 0.8989\n",
      "Epoch 10/35\n",
      "301/301 [==============================] - 3s 10ms/step - loss: 0.2406 - accuracy: 0.9084 - val_loss: 0.2428 - val_accuracy: 0.9080\n",
      "Epoch 11/35\n",
      "301/301 [==============================] - 3s 10ms/step - loss: 0.2350 - accuracy: 0.9095 - val_loss: 0.2453 - val_accuracy: 0.9073\n",
      "Epoch 12/35\n",
      "301/301 [==============================] - 3s 10ms/step - loss: 0.2278 - accuracy: 0.9137 - val_loss: 0.2429 - val_accuracy: 0.9090\n",
      "Epoch 13/35\n",
      "301/301 [==============================] - 3s 10ms/step - loss: 0.2234 - accuracy: 0.9150 - val_loss: 0.2407 - val_accuracy: 0.9071\n",
      "Epoch 14/35\n",
      "301/301 [==============================] - 3s 10ms/step - loss: 0.2205 - accuracy: 0.9187 - val_loss: 0.2299 - val_accuracy: 0.9141\n",
      "Epoch 15/35\n",
      "301/301 [==============================] - 3s 10ms/step - loss: 0.2137 - accuracy: 0.9216 - val_loss: 0.2360 - val_accuracy: 0.9107\n",
      "Epoch 16/35\n",
      "301/301 [==============================] - 3s 10ms/step - loss: 0.2080 - accuracy: 0.9240 - val_loss: 0.2302 - val_accuracy: 0.9169\n",
      "Epoch 17/35\n",
      "301/301 [==============================] - 3s 10ms/step - loss: 0.2023 - accuracy: 0.9266 - val_loss: 0.2164 - val_accuracy: 0.9235\n",
      "Epoch 18/35\n",
      "301/301 [==============================] - 3s 10ms/step - loss: 0.1963 - accuracy: 0.9293 - val_loss: 0.2224 - val_accuracy: 0.9218\n",
      "Epoch 19/35\n",
      "301/301 [==============================] - 3s 10ms/step - loss: 0.1919 - accuracy: 0.9322 - val_loss: 0.2568 - val_accuracy: 0.9111\n",
      "Epoch 20/35\n",
      "301/301 [==============================] - 3s 10ms/step - loss: 0.1890 - accuracy: 0.9336 - val_loss: 0.2195 - val_accuracy: 0.9223\n",
      "Epoch 21/35\n",
      "301/301 [==============================] - 3s 10ms/step - loss: 0.1837 - accuracy: 0.9360 - val_loss: 0.2054 - val_accuracy: 0.9278\n",
      "Epoch 22/35\n",
      "301/301 [==============================] - 3s 10ms/step - loss: 0.1797 - accuracy: 0.9369 - val_loss: 0.2097 - val_accuracy: 0.9249\n",
      "Epoch 23/35\n",
      "301/301 [==============================] - 3s 10ms/step - loss: 0.1736 - accuracy: 0.9408 - val_loss: 0.2079 - val_accuracy: 0.9220\n",
      "Epoch 24/35\n",
      "301/301 [==============================] - 3s 10ms/step - loss: 0.1688 - accuracy: 0.9419 - val_loss: 0.2102 - val_accuracy: 0.9282\n",
      "Epoch 25/35\n",
      "301/301 [==============================] - 3s 11ms/step - loss: 0.1644 - accuracy: 0.9438 - val_loss: 0.2046 - val_accuracy: 0.9307\n",
      "Epoch 26/35\n",
      "301/301 [==============================] - 3s 11ms/step - loss: 0.1616 - accuracy: 0.9450 - val_loss: 0.2034 - val_accuracy: 0.9300\n",
      "Epoch 27/35\n",
      "301/301 [==============================] - 3s 11ms/step - loss: 0.1579 - accuracy: 0.9454 - val_loss: 0.1911 - val_accuracy: 0.9341\n",
      "Epoch 28/35\n",
      "301/301 [==============================] - 3s 11ms/step - loss: 0.1552 - accuracy: 0.9477 - val_loss: 0.1951 - val_accuracy: 0.9340\n",
      "Epoch 29/35\n",
      "301/301 [==============================] - 3s 11ms/step - loss: 0.1493 - accuracy: 0.9497 - val_loss: 0.1990 - val_accuracy: 0.9371\n",
      "Epoch 30/35\n",
      "301/301 [==============================] - 4s 12ms/step - loss: 0.1484 - accuracy: 0.9503 - val_loss: 0.2016 - val_accuracy: 0.9283\n",
      "Epoch 31/35\n",
      "301/301 [==============================] - 4s 13ms/step - loss: 0.1424 - accuracy: 0.9522 - val_loss: 0.1930 - val_accuracy: 0.9331\n",
      "Epoch 32/35\n",
      "301/301 [==============================] - 4s 13ms/step - loss: 0.1407 - accuracy: 0.9527 - val_loss: 0.2079 - val_accuracy: 0.9359\n",
      "Epoch 33/35\n",
      "301/301 [==============================] - 4s 13ms/step - loss: 0.1369 - accuracy: 0.9548 - val_loss: 0.1988 - val_accuracy: 0.9355\n",
      "Epoch 34/35\n",
      "301/301 [==============================] - 4s 13ms/step - loss: 0.1357 - accuracy: 0.9554 - val_loss: 0.1964 - val_accuracy: 0.9367\n",
      "Epoch 35/35\n",
      "301/301 [==============================] - 4s 14ms/step - loss: 0.1337 - accuracy: 0.9557 - val_loss: 0.1982 - val_accuracy: 0.9345\n"
     ]
    }
   ],
   "source": [
    "training_results = model.fit(x=feature_train, \n",
    "                             y=label_train, \n",
    "                             verbose=1, \n",
    "                             batch_size=175, \n",
    "                             epochs=35 , \n",
    "                             validation_data= (feature_val,label_val), \n",
    "                             callbacks=[tensorboard_callback])"
   ]
  },
  {
   "cell_type": "code",
   "execution_count": 7,
   "id": "ea8d7726",
   "metadata": {},
   "outputs": [
    {
     "data": {
      "text/plain": [
       "Reusing TensorBoard on port 6006 (pid 36048), started 0:41:59 ago. (Use '!kill 36048' to kill it.)"
      ]
     },
     "metadata": {},
     "output_type": "display_data"
    },
    {
     "data": {
      "text/html": [
       "\n",
       "      <iframe id=\"tensorboard-frame-ef0442b14ccc20bd\" width=\"100%\" height=\"800\" frameborder=\"0\">\n",
       "      </iframe>\n",
       "      <script>\n",
       "        (function() {\n",
       "          const frame = document.getElementById(\"tensorboard-frame-ef0442b14ccc20bd\");\n",
       "          const url = new URL(\"/\", window.location);\n",
       "          const port = 6006;\n",
       "          if (port) {\n",
       "            url.port = port;\n",
       "          }\n",
       "          frame.src = url;\n",
       "        })();\n",
       "      </script>\n",
       "    "
      ],
      "text/plain": [
       "<IPython.core.display.HTML object>"
      ]
     },
     "metadata": {},
     "output_type": "display_data"
    }
   ],
   "source": [
    "# Visualizing on Tensorboard\n",
    "%tensorboard --logdir logs/fit"
   ]
  },
  {
   "cell_type": "markdown",
   "id": "4f115545",
   "metadata": {},
   "source": [
    "##### Visualizing Training Results"
   ]
  },
  {
   "cell_type": "code",
   "execution_count": 8,
   "id": "9e6669a1",
   "metadata": {},
   "outputs": [
    {
     "name": "stdout",
     "output_type": "stream",
     "text": [
      "dict_keys(['loss', 'accuracy', 'val_loss', 'val_accuracy'])\n"
     ]
    },
    {
     "data": {
      "image/png": "[encoded data removed]",
      "text/plain": [
       "<Figure size 432x288 with 1 Axes>"
      ]
     },
     "metadata": {
      "needs_background": "light"
     },
     "output_type": "display_data"
    },
    {
     "data": {
      "image/png": "[encoded data removed]",
      "text/plain": [
       "<Figure size 432x288 with 1 Axes>"
      ]
     },
     "metadata": {
      "needs_background": "light"
     },
     "output_type": "display_data"
    }
   ],
   "source": [
    "# list all data in history\n",
    "print(training_results.history.keys())\n",
    "#summarize history for accuracy\n",
    "#plt.figure(figsize=(20,20))\n",
    "plt.plot(training_results.history['accuracy'])\n",
    "plt.plot(training_results.history['val_accuracy'])\n",
    "plt.title('model accuracy')\n",
    "plt.ylabel('accuracy')\n",
    "plt.xlabel('epoch')\n",
    "plt.legend(['train', 'test'], loc='upper left')\n",
    "plt.show()\n",
    "# summarize history for loss\n",
    "plt.plot(training_results.history['loss'])\n",
    "plt.plot(training_results.history['val_loss'])\n",
    "plt.title('model loss')\n",
    "plt.ylabel('loss')\n",
    "plt.xlabel('epoch')\n",
    "plt.legend(['train', 'test'], loc='upper left')\n",
    "plt.show()"
   ]
  },
  {
   "cell_type": "markdown",
   "id": "7df6475f",
   "metadata": {},
   "source": [
    "##### Model Evaluation"
   ]
  },
  {
   "cell_type": "code",
   "execution_count": 9,
   "id": "9e720338",
   "metadata": {},
   "outputs": [
    {
     "name": "stdout",
     "output_type": "stream",
     "text": [
      "Loss : 0.19894053041934967\n",
      "Accuracy : 0.9362298846244812\n"
     ]
    }
   ],
   "source": [
    "results = model.evaluate(X_test, y_test, verbose=0)\n",
    "print(\"Loss :\",results[0])\n",
    "print(\"Accuracy :\",results[1])"
   ]
  },
  {
   "cell_type": "markdown",
   "id": "8bbe5ece",
   "metadata": {},
   "source": [
    "##### Exporting Model"
   ]
  },
  {
   "cell_type": "code",
   "execution_count": 10,
   "id": "6265c0c5",
   "metadata": {},
   "outputs": [
    {
     "name": "stdout",
     "output_type": "stream",
     "text": [
      "INFO:tensorflow:Assets written to: C:/Users/anura/Desktop/CIS_Final_Exam-1/saved_model/1\\assets\n"
     ]
    }
   ],
   "source": [
    "# Save the entire model as a SavedModel.\n",
    "model.save(os.getcwd().replace(\"\\\\\",\"/\")+'/saved_model/1')"
   ]
  }
 ],
 "metadata": {
  "kernelspec": {
   "display_name": "Python 3 (ipykernel)",
   "language": "python",
   "name": "python3"
  },
  "language_info": {
   "codemirror_mode": {
    "name": "ipython",
    "version": 3
   },
   "file_extension": ".py",
   "mimetype": "text/x-python",
   "name": "python",
   "nbconvert_exporter": "python",
   "pygments_lexer": "ipython3",
   "version": "3.9.7"
  }
 },
 "nbformat": 4,
 "nbformat_minor": 5
}
