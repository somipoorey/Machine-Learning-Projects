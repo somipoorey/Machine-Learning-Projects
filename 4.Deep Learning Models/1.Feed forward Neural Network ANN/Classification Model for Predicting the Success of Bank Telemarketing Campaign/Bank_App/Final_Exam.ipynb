{
 "cells": [
  {
   "cell_type": "markdown",
   "id": "324612c8",
   "metadata": {},
   "source": [
    "## Importing Libraries"
   ]
  },
  {
   "cell_type": "code",
   "execution_count": 1,
   "id": "b4f3973f",
   "metadata": {},
   "outputs": [],
   "source": [
    "import pandas as pd\n",
    "import numpy as np\n",
    "import seaborn as sns\n",
    "\n",
    "from keras.models import Sequential\n",
    "from keras.layers import Dense, Flatten, Conv2D\n",
    "from tensorflow.keras.optimizers import Adam\n",
    "\n",
    "from tensorflow.keras.utils import to_categorical\n",
    "from keras import optimizers\n",
    "from sklearn.preprocessing import OneHotEncoder, StandardScaler, LabelEncoder\n",
    "\n",
    "import matplotlib.pyplot as plt\n",
    "%matplotlib inline\n",
    "\n",
    "from sklearn.model_selection import train_test_split\n",
    "from sklearn.metrics import confusion_matrix\n",
    "\n",
    "import tensorflow as tf\n",
    "import random as rn\n",
    "%load_ext tensorboard\n",
    "\n",
    "# Clear any logs from previous runs\n",
    "#!rm -rf ./logs/\n",
    "\n",
    "import os\n",
    "\n",
    "import datetime"
   ]
  },
  {
   "cell_type": "markdown",
   "id": "9ec55f82",
   "metadata": {},
   "source": [
    "## Importing Data"
   ]
  },
  {
   "cell_type": "code",
   "execution_count": 2,
   "id": "6a7cece5",
   "metadata": {},
   "outputs": [],
   "source": [
    "Base_path=os.getcwd().replace(\"\\\\\",\"/\")"
   ]
  },
  {
   "cell_type": "code",
   "execution_count": 3,
   "id": "28a02b35",
   "metadata": {
    "scrolled": true
   },
   "outputs": [
    {
     "data": {
      "text/html": [
       "<div>\n",
       "<style scoped>\n",
       "    .dataframe tbody tr th:only-of-type {\n",
       "        vertical-align: middle;\n",
       "    }\n",
       "\n",
       "    .dataframe tbody tr th {\n",
       "        vertical-align: top;\n",
       "    }\n",
       "\n",
       "    .dataframe thead th {\n",
       "        text-align: right;\n",
       "    }\n",
       "</style>\n",
       "<table border=\"1\" class=\"dataframe\">\n",
       "  <thead>\n",
       "    <tr style=\"text-align: right;\">\n",
       "      <th></th>\n",
       "      <th>age</th>\n",
       "      <th>job</th>\n",
       "      <th>marital</th>\n",
       "      <th>education</th>\n",
       "      <th>default</th>\n",
       "      <th>housing</th>\n",
       "      <th>loan</th>\n",
       "      <th>contact</th>\n",
       "      <th>month</th>\n",
       "      <th>day_of_week</th>\n",
       "      <th>...</th>\n",
       "      <th>campaign</th>\n",
       "      <th>pdays</th>\n",
       "      <th>previous</th>\n",
       "      <th>poutcome</th>\n",
       "      <th>emp.var.rate</th>\n",
       "      <th>cons.price.idx</th>\n",
       "      <th>cons.conf.idx</th>\n",
       "      <th>euribor3m</th>\n",
       "      <th>nr.employed</th>\n",
       "      <th>y</th>\n",
       "    </tr>\n",
       "  </thead>\n",
       "  <tbody>\n",
       "    <tr>\n",
       "      <th>0</th>\n",
       "      <td>56</td>\n",
       "      <td>housemaid</td>\n",
       "      <td>married</td>\n",
       "      <td>basic.4y</td>\n",
       "      <td>no</td>\n",
       "      <td>no</td>\n",
       "      <td>no</td>\n",
       "      <td>telephone</td>\n",
       "      <td>may</td>\n",
       "      <td>mon</td>\n",
       "      <td>...</td>\n",
       "      <td>1</td>\n",
       "      <td>999</td>\n",
       "      <td>0</td>\n",
       "      <td>nonexistent</td>\n",
       "      <td>1.1</td>\n",
       "      <td>93.994</td>\n",
       "      <td>-36.4</td>\n",
       "      <td>4.857</td>\n",
       "      <td>5191.0</td>\n",
       "      <td>no</td>\n",
       "    </tr>\n",
       "    <tr>\n",
       "      <th>1</th>\n",
       "      <td>57</td>\n",
       "      <td>services</td>\n",
       "      <td>married</td>\n",
       "      <td>high.school</td>\n",
       "      <td>unknown</td>\n",
       "      <td>no</td>\n",
       "      <td>no</td>\n",
       "      <td>telephone</td>\n",
       "      <td>may</td>\n",
       "      <td>mon</td>\n",
       "      <td>...</td>\n",
       "      <td>1</td>\n",
       "      <td>999</td>\n",
       "      <td>0</td>\n",
       "      <td>nonexistent</td>\n",
       "      <td>1.1</td>\n",
       "      <td>93.994</td>\n",
       "      <td>-36.4</td>\n",
       "      <td>4.857</td>\n",
       "      <td>5191.0</td>\n",
       "      <td>no</td>\n",
       "    </tr>\n",
       "    <tr>\n",
       "      <th>2</th>\n",
       "      <td>37</td>\n",
       "      <td>services</td>\n",
       "      <td>married</td>\n",
       "      <td>high.school</td>\n",
       "      <td>no</td>\n",
       "      <td>yes</td>\n",
       "      <td>no</td>\n",
       "      <td>telephone</td>\n",
       "      <td>may</td>\n",
       "      <td>mon</td>\n",
       "      <td>...</td>\n",
       "      <td>1</td>\n",
       "      <td>999</td>\n",
       "      <td>0</td>\n",
       "      <td>nonexistent</td>\n",
       "      <td>1.1</td>\n",
       "      <td>93.994</td>\n",
       "      <td>-36.4</td>\n",
       "      <td>4.857</td>\n",
       "      <td>5191.0</td>\n",
       "      <td>no</td>\n",
       "    </tr>\n",
       "    <tr>\n",
       "      <th>3</th>\n",
       "      <td>40</td>\n",
       "      <td>admin.</td>\n",
       "      <td>married</td>\n",
       "      <td>basic.6y</td>\n",
       "      <td>no</td>\n",
       "      <td>no</td>\n",
       "      <td>no</td>\n",
       "      <td>telephone</td>\n",
       "      <td>may</td>\n",
       "      <td>mon</td>\n",
       "      <td>...</td>\n",
       "      <td>1</td>\n",
       "      <td>999</td>\n",
       "      <td>0</td>\n",
       "      <td>nonexistent</td>\n",
       "      <td>1.1</td>\n",
       "      <td>93.994</td>\n",
       "      <td>-36.4</td>\n",
       "      <td>4.857</td>\n",
       "      <td>5191.0</td>\n",
       "      <td>no</td>\n",
       "    </tr>\n",
       "    <tr>\n",
       "      <th>4</th>\n",
       "      <td>56</td>\n",
       "      <td>services</td>\n",
       "      <td>married</td>\n",
       "      <td>high.school</td>\n",
       "      <td>no</td>\n",
       "      <td>no</td>\n",
       "      <td>yes</td>\n",
       "      <td>telephone</td>\n",
       "      <td>may</td>\n",
       "      <td>mon</td>\n",
       "      <td>...</td>\n",
       "      <td>1</td>\n",
       "      <td>999</td>\n",
       "      <td>0</td>\n",
       "      <td>nonexistent</td>\n",
       "      <td>1.1</td>\n",
       "      <td>93.994</td>\n",
       "      <td>-36.4</td>\n",
       "      <td>4.857</td>\n",
       "      <td>5191.0</td>\n",
       "      <td>no</td>\n",
       "    </tr>\n",
       "  </tbody>\n",
       "</table>\n",
       "<p>5 rows × 21 columns</p>\n",
       "</div>"
      ],
      "text/plain": [
       "   age        job  marital    education  default housing loan    contact  \\\n",
       "0   56  housemaid  married     basic.4y       no      no   no  telephone   \n",
       "1   57   services  married  high.school  unknown      no   no  telephone   \n",
       "2   37   services  married  high.school       no     yes   no  telephone   \n",
       "3   40     admin.  married     basic.6y       no      no   no  telephone   \n",
       "4   56   services  married  high.school       no      no  yes  telephone   \n",
       "\n",
       "  month day_of_week  ...  campaign  pdays  previous     poutcome emp.var.rate  \\\n",
       "0   may         mon  ...         1    999         0  nonexistent          1.1   \n",
       "1   may         mon  ...         1    999         0  nonexistent          1.1   \n",
       "2   may         mon  ...         1    999         0  nonexistent          1.1   \n",
       "3   may         mon  ...         1    999         0  nonexistent          1.1   \n",
       "4   may         mon  ...         1    999         0  nonexistent          1.1   \n",
       "\n",
       "   cons.price.idx  cons.conf.idx  euribor3m  nr.employed   y  \n",
       "0          93.994          -36.4      4.857       5191.0  no  \n",
       "1          93.994          -36.4      4.857       5191.0  no  \n",
       "2          93.994          -36.4      4.857       5191.0  no  \n",
       "3          93.994          -36.4      4.857       5191.0  no  \n",
       "4          93.994          -36.4      4.857       5191.0  no  \n",
       "\n",
       "[5 rows x 21 columns]"
      ]
     },
     "execution_count": 3,
     "metadata": {},
     "output_type": "execute_result"
    }
   ],
   "source": [
    "df = pd.read_csv(os.getcwd().replace(\"\\\\\",\"/\")+'/Dataset/'+'Bank-Telemarketing.csv')\n",
    "df.head()"
   ]
  },
  {
   "cell_type": "code",
   "execution_count": 4,
   "id": "058d3d08",
   "metadata": {},
   "outputs": [
    {
     "data": {
      "text/html": [
       "<div>\n",
       "<style scoped>\n",
       "    .dataframe tbody tr th:only-of-type {\n",
       "        vertical-align: middle;\n",
       "    }\n",
       "\n",
       "    .dataframe tbody tr th {\n",
       "        vertical-align: top;\n",
       "    }\n",
       "\n",
       "    .dataframe thead th {\n",
       "        text-align: right;\n",
       "    }\n",
       "</style>\n",
       "<table border=\"1\" class=\"dataframe\">\n",
       "  <thead>\n",
       "    <tr style=\"text-align: right;\">\n",
       "      <th></th>\n",
       "      <th>age</th>\n",
       "      <th>duration</th>\n",
       "      <th>campaign</th>\n",
       "      <th>pdays</th>\n",
       "      <th>previous</th>\n",
       "      <th>emp.var.rate</th>\n",
       "      <th>cons.price.idx</th>\n",
       "      <th>cons.conf.idx</th>\n",
       "      <th>euribor3m</th>\n",
       "      <th>nr.employed</th>\n",
       "    </tr>\n",
       "  </thead>\n",
       "  <tbody>\n",
       "    <tr>\n",
       "      <th>count</th>\n",
       "      <td>41188.00000</td>\n",
       "      <td>41188.000000</td>\n",
       "      <td>41188.000000</td>\n",
       "      <td>41188.000000</td>\n",
       "      <td>41188.000000</td>\n",
       "      <td>41188.000000</td>\n",
       "      <td>41188.000000</td>\n",
       "      <td>41188.000000</td>\n",
       "      <td>41188.000000</td>\n",
       "      <td>41188.000000</td>\n",
       "    </tr>\n",
       "    <tr>\n",
       "      <th>mean</th>\n",
       "      <td>40.02406</td>\n",
       "      <td>258.285010</td>\n",
       "      <td>2.567593</td>\n",
       "      <td>962.475454</td>\n",
       "      <td>0.172963</td>\n",
       "      <td>0.081886</td>\n",
       "      <td>93.575664</td>\n",
       "      <td>-40.502600</td>\n",
       "      <td>3.621291</td>\n",
       "      <td>5167.035911</td>\n",
       "    </tr>\n",
       "    <tr>\n",
       "      <th>std</th>\n",
       "      <td>10.42125</td>\n",
       "      <td>259.279249</td>\n",
       "      <td>2.770014</td>\n",
       "      <td>186.910907</td>\n",
       "      <td>0.494901</td>\n",
       "      <td>1.570960</td>\n",
       "      <td>0.578840</td>\n",
       "      <td>4.628198</td>\n",
       "      <td>1.734447</td>\n",
       "      <td>72.251528</td>\n",
       "    </tr>\n",
       "    <tr>\n",
       "      <th>min</th>\n",
       "      <td>17.00000</td>\n",
       "      <td>0.000000</td>\n",
       "      <td>1.000000</td>\n",
       "      <td>0.000000</td>\n",
       "      <td>0.000000</td>\n",
       "      <td>-3.400000</td>\n",
       "      <td>92.201000</td>\n",
       "      <td>-50.800000</td>\n",
       "      <td>0.634000</td>\n",
       "      <td>4963.600000</td>\n",
       "    </tr>\n",
       "    <tr>\n",
       "      <th>25%</th>\n",
       "      <td>32.00000</td>\n",
       "      <td>102.000000</td>\n",
       "      <td>1.000000</td>\n",
       "      <td>999.000000</td>\n",
       "      <td>0.000000</td>\n",
       "      <td>-1.800000</td>\n",
       "      <td>93.075000</td>\n",
       "      <td>-42.700000</td>\n",
       "      <td>1.344000</td>\n",
       "      <td>5099.100000</td>\n",
       "    </tr>\n",
       "    <tr>\n",
       "      <th>50%</th>\n",
       "      <td>38.00000</td>\n",
       "      <td>180.000000</td>\n",
       "      <td>2.000000</td>\n",
       "      <td>999.000000</td>\n",
       "      <td>0.000000</td>\n",
       "      <td>1.100000</td>\n",
       "      <td>93.749000</td>\n",
       "      <td>-41.800000</td>\n",
       "      <td>4.857000</td>\n",
       "      <td>5191.000000</td>\n",
       "    </tr>\n",
       "    <tr>\n",
       "      <th>75%</th>\n",
       "      <td>47.00000</td>\n",
       "      <td>319.000000</td>\n",
       "      <td>3.000000</td>\n",
       "      <td>999.000000</td>\n",
       "      <td>0.000000</td>\n",
       "      <td>1.400000</td>\n",
       "      <td>93.994000</td>\n",
       "      <td>-36.400000</td>\n",
       "      <td>4.961000</td>\n",
       "      <td>5228.100000</td>\n",
       "    </tr>\n",
       "    <tr>\n",
       "      <th>max</th>\n",
       "      <td>98.00000</td>\n",
       "      <td>4918.000000</td>\n",
       "      <td>56.000000</td>\n",
       "      <td>999.000000</td>\n",
       "      <td>7.000000</td>\n",
       "      <td>1.400000</td>\n",
       "      <td>94.767000</td>\n",
       "      <td>-26.900000</td>\n",
       "      <td>5.045000</td>\n",
       "      <td>5228.100000</td>\n",
       "    </tr>\n",
       "  </tbody>\n",
       "</table>\n",
       "</div>"
      ],
      "text/plain": [
       "               age      duration      campaign         pdays      previous  \\\n",
       "count  41188.00000  41188.000000  41188.000000  41188.000000  41188.000000   \n",
       "mean      40.02406    258.285010      2.567593    962.475454      0.172963   \n",
       "std       10.42125    259.279249      2.770014    186.910907      0.494901   \n",
       "min       17.00000      0.000000      1.000000      0.000000      0.000000   \n",
       "25%       32.00000    102.000000      1.000000    999.000000      0.000000   \n",
       "50%       38.00000    180.000000      2.000000    999.000000      0.000000   \n",
       "75%       47.00000    319.000000      3.000000    999.000000      0.000000   \n",
       "max       98.00000   4918.000000     56.000000    999.000000      7.000000   \n",
       "\n",
       "       emp.var.rate  cons.price.idx  cons.conf.idx     euribor3m   nr.employed  \n",
       "count  41188.000000    41188.000000   41188.000000  41188.000000  41188.000000  \n",
       "mean       0.081886       93.575664     -40.502600      3.621291   5167.035911  \n",
       "std        1.570960        0.578840       4.628198      1.734447     72.251528  \n",
       "min       -3.400000       92.201000     -50.800000      0.634000   4963.600000  \n",
       "25%       -1.800000       93.075000     -42.700000      1.344000   5099.100000  \n",
       "50%        1.100000       93.749000     -41.800000      4.857000   5191.000000  \n",
       "75%        1.400000       93.994000     -36.400000      4.961000   5228.100000  \n",
       "max        1.400000       94.767000     -26.900000      5.045000   5228.100000  "
      ]
     },
     "execution_count": 4,
     "metadata": {},
     "output_type": "execute_result"
    }
   ],
   "source": [
    "df.describe()"
   ]
  },
  {
   "cell_type": "markdown",
   "id": "678e14e2",
   "metadata": {},
   "source": [
    "### DATA PRE-PROCESSING"
   ]
  },
  {
   "cell_type": "code",
   "execution_count": 5,
   "id": "ff46e9e9",
   "metadata": {},
   "outputs": [
    {
     "name": "stdout",
     "output_type": "stream",
     "text": [
      "Duplicate values in the bank dataset are:  12\n",
      "After Dropping Duplicate values in the bank dataset are:  0\n"
     ]
    }
   ],
   "source": [
    "#Checking and Removing Duplicate Values\n",
    "\n",
    "print('Duplicate values in the bank dataset are: ', df.duplicated().sum())\n",
    "\n",
    "df.drop_duplicates(inplace=True)\n",
    "\n",
    "print('After Dropping Duplicate values in the bank dataset are: ', df.duplicated().sum())"
   ]
  },
  {
   "cell_type": "code",
   "execution_count": 6,
   "id": "db5d54ec",
   "metadata": {},
   "outputs": [
    {
     "name": "stdout",
     "output_type": "stream",
     "text": [
      "0\n"
     ]
    }
   ],
   "source": [
    "#Removing Null values\n",
    "\n",
    "print(df.isnull().sum().sum())"
   ]
  },
  {
   "cell_type": "code",
   "execution_count": 7,
   "id": "ca04c259",
   "metadata": {
    "scrolled": true
   },
   "outputs": [
    {
     "name": "stderr",
     "output_type": "stream",
     "text": [
      "C:\\Users\\spoor\\anaconda3\\lib\\site-packages\\seaborn\\_decorators.py:36: FutureWarning: Pass the following variable as a keyword arg: x. From version 0.12, the only valid positional argument will be `data`, and passing other arguments without an explicit keyword will result in an error or misinterpretation.\n",
      "  warnings.warn(\n"
     ]
    },
    {
     "data": {
      "text/plain": [
       "<AxesSubplot:xlabel='y', ylabel='count'>"
      ]
     },
     "execution_count": 7,
     "metadata": {},
     "output_type": "execute_result"
    },
    {
     "data": {
      "image/png": "[encoded data removed]",
      "text/plain": [
       "<Figure size 432x288 with 1 Axes>"
      ]
     },
     "metadata": {
      "needs_background": "light"
     },
     "output_type": "display_data"
    }
   ],
   "source": [
    "#Checking Class Imbalance\n",
    "\n",
    "sns.countplot('y',data=df, palette= \"Set3\")"
   ]
  },
  {
   "cell_type": "code",
   "execution_count": 8,
   "id": "a2b186c3",
   "metadata": {},
   "outputs": [
    {
     "name": "stdout",
     "output_type": "stream",
     "text": [
      "(36537, 21)\n",
      "(4639, 21)\n"
     ]
    }
   ],
   "source": [
    "df_classe_majority = df[df.y=='no'] \n",
    "df_classe_minority = df[df.y=='yes']\n",
    "\n",
    "\n",
    "print(df_classe_majority.shape)\n",
    "print(df_classe_minority.shape)\n"
   ]
  },
  {
   "cell_type": "code",
   "execution_count": 9,
   "id": "cae41ae8",
   "metadata": {},
   "outputs": [],
   "source": [
    "# Upsample of minority class\n",
    "from sklearn.utils import resample\n",
    "df_classe_minority_upsampled = resample(df_classe_minority,\n",
    "                                           replace = True,\n",
    "                                           n_samples = df_classe_majority.shape[0] )"
   ]
  },
  {
   "cell_type": "code",
   "execution_count": 10,
   "id": "9f59ca86",
   "metadata": {},
   "outputs": [
    {
     "data": {
      "text/plain": [
       "(36537, 21)"
      ]
     },
     "execution_count": 10,
     "metadata": {},
     "output_type": "execute_result"
    }
   ],
   "source": [
    "df_classe_minority_upsampled.shape"
   ]
  },
  {
   "cell_type": "code",
   "execution_count": 11,
   "id": "f06561e0",
   "metadata": {},
   "outputs": [
    {
     "data": {
      "text/plain": [
       "(73074, 21)"
      ]
     },
     "execution_count": 11,
     "metadata": {},
     "output_type": "execute_result"
    }
   ],
   "source": [
    "df_balanced_data = pd.concat([df_classe_majority, df_classe_minority_upsampled])\n",
    "df_balanced_data.shape"
   ]
  },
  {
   "cell_type": "markdown",
   "id": "0b43528a",
   "metadata": {},
   "source": [
    "### Making Class Balance"
   ]
  },
  {
   "cell_type": "code",
   "execution_count": 12,
   "id": "06b351cc",
   "metadata": {
    "scrolled": true
   },
   "outputs": [
    {
     "name": "stderr",
     "output_type": "stream",
     "text": [
      "C:\\Users\\spoor\\anaconda3\\lib\\site-packages\\seaborn\\_decorators.py:36: FutureWarning: Pass the following variable as a keyword arg: x. From version 0.12, the only valid positional argument will be `data`, and passing other arguments without an explicit keyword will result in an error or misinterpretation.\n",
      "  warnings.warn(\n"
     ]
    },
    {
     "data": {
      "text/plain": [
       "<AxesSubplot:xlabel='y', ylabel='count'>"
      ]
     },
     "execution_count": 12,
     "metadata": {},
     "output_type": "execute_result"
    },
    {
     "data": {
      "image/png": "[encoded data removed]",
      "text/plain": [
       "<Figure size 432x288 with 1 Axes>"
      ]
     },
     "metadata": {
      "needs_background": "light"
     },
     "output_type": "display_data"
    }
   ],
   "source": [
    "sns.countplot('y',data=df_balanced_data, palette=\"Set3\")"
   ]
  },
  {
   "cell_type": "code",
   "execution_count": 13,
   "id": "8dac5344",
   "metadata": {},
   "outputs": [],
   "source": [
    "\n",
    "df_balanced_data.loan = df_balanced_data.loan.map({'yes': 1, 'unknown': 0, 'no' : 0}).astype('uint8')\n",
    "df_balanced_data.housing = df_balanced_data.housing.map({'yes': 1, 'unknown': 0, 'no' : 0}).astype('uint8')\n",
    "df_balanced_data.default = df_balanced_data.default.map({'no': 1, 'unknown': 0, 'yes': 0}).astype('uint8')"
   ]
  },
  {
   "cell_type": "code",
   "execution_count": 14,
   "id": "d713c8ca",
   "metadata": {},
   "outputs": [
    {
     "name": "stdout",
     "output_type": "stream",
     "text": [
      "job\n",
      "marital\n",
      "education\n",
      "contact\n",
      "month\n",
      "day_of_week\n",
      "poutcome\n",
      "y\n"
     ]
    }
   ],
   "source": [
    "cat_var=[]\n",
    "\n",
    "for col in df_balanced_data.columns:\n",
    "    if df_balanced_data[col].dtypes==\"O\":\n",
    "        cat_var.append(col)\n",
    "        print(col)\n",
    "        \n",
    "from sklearn.preprocessing import LabelEncoder\n",
    "le = LabelEncoder()\n",
    "\n",
    "\n",
    "for i in cat_var:\n",
    "    df_balanced_data[i]= le.fit_transform(df_balanced_data[i])"
   ]
  },
  {
   "cell_type": "code",
   "execution_count": 15,
   "id": "9ef4c214",
   "metadata": {},
   "outputs": [
    {
     "data": {
      "text/html": [
       "<div>\n",
       "<style scoped>\n",
       "    .dataframe tbody tr th:only-of-type {\n",
       "        vertical-align: middle;\n",
       "    }\n",
       "\n",
       "    .dataframe tbody tr th {\n",
       "        vertical-align: top;\n",
       "    }\n",
       "\n",
       "    .dataframe thead th {\n",
       "        text-align: right;\n",
       "    }\n",
       "</style>\n",
       "<table border=\"1\" class=\"dataframe\">\n",
       "  <thead>\n",
       "    <tr style=\"text-align: right;\">\n",
       "      <th></th>\n",
       "      <th>age</th>\n",
       "      <th>job</th>\n",
       "      <th>marital</th>\n",
       "      <th>education</th>\n",
       "      <th>default</th>\n",
       "      <th>housing</th>\n",
       "      <th>loan</th>\n",
       "      <th>contact</th>\n",
       "      <th>month</th>\n",
       "      <th>day_of_week</th>\n",
       "      <th>...</th>\n",
       "      <th>campaign</th>\n",
       "      <th>pdays</th>\n",
       "      <th>previous</th>\n",
       "      <th>poutcome</th>\n",
       "      <th>emp.var.rate</th>\n",
       "      <th>cons.price.idx</th>\n",
       "      <th>cons.conf.idx</th>\n",
       "      <th>euribor3m</th>\n",
       "      <th>nr.employed</th>\n",
       "      <th>y</th>\n",
       "    </tr>\n",
       "  </thead>\n",
       "  <tbody>\n",
       "    <tr>\n",
       "      <th>0</th>\n",
       "      <td>56</td>\n",
       "      <td>3</td>\n",
       "      <td>1</td>\n",
       "      <td>0</td>\n",
       "      <td>1</td>\n",
       "      <td>0</td>\n",
       "      <td>0</td>\n",
       "      <td>1</td>\n",
       "      <td>6</td>\n",
       "      <td>1</td>\n",
       "      <td>...</td>\n",
       "      <td>1</td>\n",
       "      <td>999</td>\n",
       "      <td>0</td>\n",
       "      <td>1</td>\n",
       "      <td>1.1</td>\n",
       "      <td>93.994</td>\n",
       "      <td>-36.4</td>\n",
       "      <td>4.857</td>\n",
       "      <td>5191.0</td>\n",
       "      <td>0</td>\n",
       "    </tr>\n",
       "    <tr>\n",
       "      <th>1</th>\n",
       "      <td>57</td>\n",
       "      <td>7</td>\n",
       "      <td>1</td>\n",
       "      <td>3</td>\n",
       "      <td>0</td>\n",
       "      <td>0</td>\n",
       "      <td>0</td>\n",
       "      <td>1</td>\n",
       "      <td>6</td>\n",
       "      <td>1</td>\n",
       "      <td>...</td>\n",
       "      <td>1</td>\n",
       "      <td>999</td>\n",
       "      <td>0</td>\n",
       "      <td>1</td>\n",
       "      <td>1.1</td>\n",
       "      <td>93.994</td>\n",
       "      <td>-36.4</td>\n",
       "      <td>4.857</td>\n",
       "      <td>5191.0</td>\n",
       "      <td>0</td>\n",
       "    </tr>\n",
       "    <tr>\n",
       "      <th>2</th>\n",
       "      <td>37</td>\n",
       "      <td>7</td>\n",
       "      <td>1</td>\n",
       "      <td>3</td>\n",
       "      <td>1</td>\n",
       "      <td>1</td>\n",
       "      <td>0</td>\n",
       "      <td>1</td>\n",
       "      <td>6</td>\n",
       "      <td>1</td>\n",
       "      <td>...</td>\n",
       "      <td>1</td>\n",
       "      <td>999</td>\n",
       "      <td>0</td>\n",
       "      <td>1</td>\n",
       "      <td>1.1</td>\n",
       "      <td>93.994</td>\n",
       "      <td>-36.4</td>\n",
       "      <td>4.857</td>\n",
       "      <td>5191.0</td>\n",
       "      <td>0</td>\n",
       "    </tr>\n",
       "    <tr>\n",
       "      <th>3</th>\n",
       "      <td>40</td>\n",
       "      <td>0</td>\n",
       "      <td>1</td>\n",
       "      <td>1</td>\n",
       "      <td>1</td>\n",
       "      <td>0</td>\n",
       "      <td>0</td>\n",
       "      <td>1</td>\n",
       "      <td>6</td>\n",
       "      <td>1</td>\n",
       "      <td>...</td>\n",
       "      <td>1</td>\n",
       "      <td>999</td>\n",
       "      <td>0</td>\n",
       "      <td>1</td>\n",
       "      <td>1.1</td>\n",
       "      <td>93.994</td>\n",
       "      <td>-36.4</td>\n",
       "      <td>4.857</td>\n",
       "      <td>5191.0</td>\n",
       "      <td>0</td>\n",
       "    </tr>\n",
       "    <tr>\n",
       "      <th>4</th>\n",
       "      <td>56</td>\n",
       "      <td>7</td>\n",
       "      <td>1</td>\n",
       "      <td>3</td>\n",
       "      <td>1</td>\n",
       "      <td>0</td>\n",
       "      <td>1</td>\n",
       "      <td>1</td>\n",
       "      <td>6</td>\n",
       "      <td>1</td>\n",
       "      <td>...</td>\n",
       "      <td>1</td>\n",
       "      <td>999</td>\n",
       "      <td>0</td>\n",
       "      <td>1</td>\n",
       "      <td>1.1</td>\n",
       "      <td>93.994</td>\n",
       "      <td>-36.4</td>\n",
       "      <td>4.857</td>\n",
       "      <td>5191.0</td>\n",
       "      <td>0</td>\n",
       "    </tr>\n",
       "  </tbody>\n",
       "</table>\n",
       "<p>5 rows × 21 columns</p>\n",
       "</div>"
      ],
      "text/plain": [
       "   age  job  marital  education  default  housing  loan  contact  month  \\\n",
       "0   56    3        1          0        1        0     0        1      6   \n",
       "1   57    7        1          3        0        0     0        1      6   \n",
       "2   37    7        1          3        1        1     0        1      6   \n",
       "3   40    0        1          1        1        0     0        1      6   \n",
       "4   56    7        1          3        1        0     1        1      6   \n",
       "\n",
       "   day_of_week  ...  campaign  pdays  previous  poutcome  emp.var.rate  \\\n",
       "0            1  ...         1    999         0         1           1.1   \n",
       "1            1  ...         1    999         0         1           1.1   \n",
       "2            1  ...         1    999         0         1           1.1   \n",
       "3            1  ...         1    999         0         1           1.1   \n",
       "4            1  ...         1    999         0         1           1.1   \n",
       "\n",
       "   cons.price.idx  cons.conf.idx  euribor3m  nr.employed  y  \n",
       "0          93.994          -36.4      4.857       5191.0  0  \n",
       "1          93.994          -36.4      4.857       5191.0  0  \n",
       "2          93.994          -36.4      4.857       5191.0  0  \n",
       "3          93.994          -36.4      4.857       5191.0  0  \n",
       "4          93.994          -36.4      4.857       5191.0  0  \n",
       "\n",
       "[5 rows x 21 columns]"
      ]
     },
     "execution_count": 15,
     "metadata": {},
     "output_type": "execute_result"
    }
   ],
   "source": [
    "df_balanced_data.head()"
   ]
  },
  {
   "cell_type": "code",
   "execution_count": 16,
   "id": "c666a007",
   "metadata": {},
   "outputs": [
    {
     "name": "stdout",
     "output_type": "stream",
     "text": [
      "<class 'pandas.core.frame.DataFrame'>\n",
      "Int64Index: 73074 entries, 0 to 37863\n",
      "Data columns (total 21 columns):\n",
      " #   Column          Non-Null Count  Dtype  \n",
      "---  ------          --------------  -----  \n",
      " 0   age             73074 non-null  int64  \n",
      " 1   job             73074 non-null  int32  \n",
      " 2   marital         73074 non-null  int32  \n",
      " 3   education       73074 non-null  int32  \n",
      " 4   default         73074 non-null  uint8  \n",
      " 5   housing         73074 non-null  uint8  \n",
      " 6   loan            73074 non-null  uint8  \n",
      " 7   contact         73074 non-null  int32  \n",
      " 8   month           73074 non-null  int32  \n",
      " 9   day_of_week     73074 non-null  int32  \n",
      " 10  duration        73074 non-null  int64  \n",
      " 11  campaign        73074 non-null  int64  \n",
      " 12  pdays           73074 non-null  int64  \n",
      " 13  previous        73074 non-null  int64  \n",
      " 14  poutcome        73074 non-null  int32  \n",
      " 15  emp.var.rate    73074 non-null  float64\n",
      " 16  cons.price.idx  73074 non-null  float64\n",
      " 17  cons.conf.idx   73074 non-null  float64\n",
      " 18  euribor3m       73074 non-null  float64\n",
      " 19  nr.employed     73074 non-null  float64\n",
      " 20  y               73074 non-null  int32  \n",
      "dtypes: float64(5), int32(8), int64(5), uint8(3)\n",
      "memory usage: 10.6 MB\n"
     ]
    }
   ],
   "source": [
    "df_balanced_data.info()"
   ]
  },
  {
   "cell_type": "code",
   "execution_count": 17,
   "id": "36e053cb",
   "metadata": {
    "scrolled": true
   },
   "outputs": [
    {
     "data": {
      "text/plain": [
       "y                1.000000\n",
       "duration         0.460170\n",
       "previous         0.261124\n",
       "default          0.167971\n",
       "poutcome         0.163677\n",
       "education        0.088650\n",
       "cons.conf.idx    0.076511\n",
       "marital          0.069702\n",
       "age              0.044377\n",
       "job              0.038050\n",
       "Name: y, dtype: float64"
      ]
     },
     "execution_count": 17,
     "metadata": {},
     "output_type": "execute_result"
    }
   ],
   "source": [
    "corr_matrix = df_balanced_data.corr()\n",
    "corr_matrix['y'].sort_values(ascending=False).head(10)"
   ]
  },
  {
   "cell_type": "markdown",
   "id": "6d78747b",
   "metadata": {},
   "source": [
    "### Splitting the Model"
   ]
  },
  {
   "cell_type": "code",
   "execution_count": 18,
   "id": "ab5b7f66",
   "metadata": {},
   "outputs": [],
   "source": [
    "#Creating Independent and Depepndent Variables\n",
    "\n",
    "X = df_balanced_data.iloc[:,0:-1]  #independent columns\n",
    "y = df_balanced_data.iloc[:,-1]    #target column\n",
    "\n",
    "#Scaling Independent variables\n",
    "scaler = StandardScaler()\n",
    "X_scaled = scaler.fit_transform(X)\n",
    "\n",
    "# Splitting the data into train and test\n",
    "X_train,X_test,y_train,y_test = train_test_split(X_scaled,y,test_size=0.2, random_state=0)\n",
    "\n",
    "# Further splitting the training data into train and validation\n",
    "feature_train, feature_val, label_train, label_val = train_test_split(X_train, y_train, test_size = 0.1, random_state=0)"
   ]
  },
  {
   "cell_type": "markdown",
   "id": "3a30f314",
   "metadata": {},
   "source": [
    "### Creating the Model"
   ]
  },
  {
   "cell_type": "code",
   "execution_count": 19,
   "id": "0bebeead",
   "metadata": {},
   "outputs": [
    {
     "name": "stdout",
     "output_type": "stream",
     "text": [
      "Model: \"sequential\"\n",
      "_________________________________________________________________\n",
      " Layer (type)                Output Shape              Param #   \n",
      "=================================================================\n",
      " input (Dense)               (None, 16)                336       \n",
      "                                                                 \n",
      " hidden_1 (Dense)            (None, 32)                544       \n",
      "                                                                 \n",
      " hidden_2 (Dense)            (None, 64)                2112      \n",
      "                                                                 \n",
      " hidden_3 (Dense)            (None, 128)               8320      \n",
      "                                                                 \n",
      " hidden_4 (Dense)            (None, 256)               33024     \n",
      "                                                                 \n",
      " hidden_5 (Dense)            (None, 512)               131584    \n",
      "                                                                 \n",
      " hidden_6 (Dense)            (None, 512)               262656    \n",
      "                                                                 \n",
      " output (Dense)              (None, 1)                 513       \n",
      "                                                                 \n",
      "=================================================================\n",
      "Total params: 439,089\n",
      "Trainable params: 439,089\n",
      "Non-trainable params: 0\n",
      "_________________________________________________________________\n",
      "None\n"
     ]
    }
   ],
   "source": [
    "model = Sequential()\n",
    "\n",
    "model.add(Dense(16, input_dim=20, activation='relu', name= 'input'))\n",
    "model.add(Dense(32, activation='relu', name= 'hidden_1'))\n",
    "model.add(Dense(64, activation='relu', name= 'hidden_2'))\n",
    "model.add(Dense(128, activation='relu', name= 'hidden_3'))\n",
    "model.add(Dense(256, activation='relu', name= 'hidden_4'))\n",
    "model.add(Dense(512, activation='relu', name= 'hidden_5'))\n",
    "model.add(Dense(512, activation='relu', name= 'hidden_6'))\n",
    "model.add(Dense(1, input_dim=20, activation='sigmoid', name= 'output'))\n",
    "\n",
    "#Adding the optimizer\n",
    "\n",
    "opt = Adam(learning_rate= 0.001)\n",
    "model.compile(optimizer=opt, loss='binary_crossentropy', metrics= ['accuracy'])\n",
    "\n",
    "\n",
    "log_dir = \"logs/fit/\" + datetime.datetime.now().strftime(\"%Y%m%d-%H%M%S\")\n",
    "tensorboard_callback = tf.keras.callbacks.TensorBoard(log_dir=log_dir, histogram_freq=1)\n",
    "\n",
    "print(model.summary())\n"
   ]
  },
  {
   "cell_type": "markdown",
   "id": "98339002",
   "metadata": {},
   "source": [
    "### Fitting the Model"
   ]
  },
  {
   "cell_type": "code",
   "execution_count": 20,
   "id": "6de38585",
   "metadata": {
    "scrolled": true
   },
   "outputs": [
    {
     "name": "stdout",
     "output_type": "stream",
     "text": [
      "Epoch 1/30\n",
      "301/301 [==============================] - 3s 8ms/step - loss: 0.3908 - accuracy: 0.8324 - val_loss: 0.3327 - val_accuracy: 0.8618\n",
      "Epoch 2/30\n",
      "301/301 [==============================] - 2s 7ms/step - loss: 0.3154 - accuracy: 0.8667 - val_loss: 0.3028 - val_accuracy: 0.8726\n",
      "Epoch 3/30\n",
      "301/301 [==============================] - 2s 7ms/step - loss: 0.2943 - accuracy: 0.8760 - val_loss: 0.2905 - val_accuracy: 0.8818\n",
      "Epoch 4/30\n",
      "301/301 [==============================] - 2s 7ms/step - loss: 0.2776 - accuracy: 0.8840 - val_loss: 0.2788 - val_accuracy: 0.8857\n",
      "Epoch 5/30\n",
      "301/301 [==============================] - 2s 7ms/step - loss: 0.2668 - accuracy: 0.8899 - val_loss: 0.2653 - val_accuracy: 0.8883\n",
      "Epoch 6/30\n",
      "301/301 [==============================] - 2s 7ms/step - loss: 0.2576 - accuracy: 0.8944 - val_loss: 0.2613 - val_accuracy: 0.8921\n",
      "Epoch 7/30\n",
      "301/301 [==============================] - 2s 7ms/step - loss: 0.2515 - accuracy: 0.8981 - val_loss: 0.2595 - val_accuracy: 0.8950\n",
      "Epoch 8/30\n",
      "301/301 [==============================] - 2s 7ms/step - loss: 0.2439 - accuracy: 0.9008 - val_loss: 0.2425 - val_accuracy: 0.9035\n",
      "Epoch 9/30\n",
      "301/301 [==============================] - 2s 7ms/step - loss: 0.2346 - accuracy: 0.9068 - val_loss: 0.2496 - val_accuracy: 0.9023\n",
      "Epoch 10/30\n",
      "301/301 [==============================] - 2s 7ms/step - loss: 0.2269 - accuracy: 0.9097 - val_loss: 0.2512 - val_accuracy: 0.9047\n",
      "Epoch 11/30\n",
      "301/301 [==============================] - 2s 7ms/step - loss: 0.2184 - accuracy: 0.9152 - val_loss: 0.2337 - val_accuracy: 0.9111\n",
      "Epoch 12/30\n",
      "301/301 [==============================] - 2s 8ms/step - loss: 0.2108 - accuracy: 0.9193 - val_loss: 0.2286 - val_accuracy: 0.9143\n",
      "Epoch 13/30\n",
      "301/301 [==============================] - 2s 7ms/step - loss: 0.2033 - accuracy: 0.9242 - val_loss: 0.2260 - val_accuracy: 0.9176\n",
      "Epoch 14/30\n",
      "301/301 [==============================] - 2s 7ms/step - loss: 0.1932 - accuracy: 0.9280 - val_loss: 0.2194 - val_accuracy: 0.9189\n",
      "Epoch 15/30\n",
      "301/301 [==============================] - 2s 7ms/step - loss: 0.1861 - accuracy: 0.9312 - val_loss: 0.2150 - val_accuracy: 0.9230\n",
      "Epoch 16/30\n",
      "301/301 [==============================] - 2s 7ms/step - loss: 0.1777 - accuracy: 0.9357 - val_loss: 0.2116 - val_accuracy: 0.9261\n",
      "Epoch 17/30\n",
      "301/301 [==============================] - 2s 7ms/step - loss: 0.1705 - accuracy: 0.9384 - val_loss: 0.2219 - val_accuracy: 0.9210\n",
      "Epoch 18/30\n",
      "301/301 [==============================] - 2s 7ms/step - loss: 0.1639 - accuracy: 0.9404 - val_loss: 0.2082 - val_accuracy: 0.9276\n",
      "Epoch 19/30\n",
      "301/301 [==============================] - 2s 8ms/step - loss: 0.1591 - accuracy: 0.9435 - val_loss: 0.2086 - val_accuracy: 0.9266\n",
      "Epoch 20/30\n",
      "301/301 [==============================] - 2s 8ms/step - loss: 0.1485 - accuracy: 0.9484 - val_loss: 0.2063 - val_accuracy: 0.9307\n",
      "Epoch 21/30\n",
      "301/301 [==============================] - 2s 8ms/step - loss: 0.1459 - accuracy: 0.9483 - val_loss: 0.1905 - val_accuracy: 0.9360\n",
      "Epoch 22/30\n",
      "301/301 [==============================] - 2s 7ms/step - loss: 0.1378 - accuracy: 0.9521 - val_loss: 0.2035 - val_accuracy: 0.9309\n",
      "Epoch 23/30\n",
      "301/301 [==============================] - 2s 8ms/step - loss: 0.1340 - accuracy: 0.9539 - val_loss: 0.1967 - val_accuracy: 0.9333\n",
      "Epoch 24/30\n",
      "301/301 [==============================] - 2s 7ms/step - loss: 0.1266 - accuracy: 0.9567 - val_loss: 0.1978 - val_accuracy: 0.9359\n",
      "Epoch 25/30\n",
      "301/301 [==============================] - 2s 7ms/step - loss: 0.1233 - accuracy: 0.9577 - val_loss: 0.1984 - val_accuracy: 0.9400\n",
      "Epoch 26/30\n",
      "301/301 [==============================] - 2s 8ms/step - loss: 0.1195 - accuracy: 0.9585 - val_loss: 0.1996 - val_accuracy: 0.9369\n",
      "Epoch 27/30\n",
      "301/301 [==============================] - 2s 8ms/step - loss: 0.1103 - accuracy: 0.9624 - val_loss: 0.1884 - val_accuracy: 0.9408\n",
      "Epoch 28/30\n",
      "301/301 [==============================] - 2s 8ms/step - loss: 0.1078 - accuracy: 0.9631 - val_loss: 0.1825 - val_accuracy: 0.9425\n",
      "Epoch 29/30\n",
      "301/301 [==============================] - 2s 7ms/step - loss: 0.1055 - accuracy: 0.9643 - val_loss: 0.1864 - val_accuracy: 0.9439\n",
      "Epoch 30/30\n",
      "301/301 [==============================] - 2s 8ms/step - loss: 0.0973 - accuracy: 0.9677 - val_loss: 0.1954 - val_accuracy: 0.9413\n"
     ]
    },
    {
     "data": {
      "text/plain": [
       "Reusing TensorBoard on port 6006 (pid 26232), started 20:35:22 ago. (Use '!kill 26232' to kill it.)"
      ]
     },
     "metadata": {},
     "output_type": "display_data"
    },
    {
     "data": {
      "text/html": [
       "\n",
       "      <iframe id=\"tensorboard-frame-6bb7918fe6e1b2a0\" width=\"100%\" height=\"800\" frameborder=\"0\">\n",
       "      </iframe>\n",
       "      <script>\n",
       "        (function() {\n",
       "          const frame = document.getElementById(\"tensorboard-frame-6bb7918fe6e1b2a0\");\n",
       "          const url = new URL(\"/\", window.location);\n",
       "          const port = 6006;\n",
       "          if (port) {\n",
       "            url.port = port;\n",
       "          }\n",
       "          frame.src = url;\n",
       "        })();\n",
       "      </script>\n",
       "    "
      ],
      "text/plain": [
       "<IPython.core.display.HTML object>"
      ]
     },
     "metadata": {},
     "output_type": "display_data"
    }
   ],
   "source": [
    "training_results = model.fit(x=feature_train, \n",
    "                             y=label_train, \n",
    "                             verbose=1, \n",
    "                             batch_size=175, \n",
    "                             epochs=30 , \n",
    "                             validation_data= (feature_val,label_val),\n",
    "                             callbacks=[tensorboard_callback])\n",
    "\n",
    "#Visualizing the tensorboard\n",
    "%tensorboard --logdir logs/fit"
   ]
  },
  {
   "cell_type": "markdown",
   "id": "50f6eaf2",
   "metadata": {},
   "source": [
    "### Plotting accuracy and loss for validation and train dataset"
   ]
  },
  {
   "cell_type": "code",
   "execution_count": 21,
   "id": "42f61edb",
   "metadata": {},
   "outputs": [
    {
     "name": "stdout",
     "output_type": "stream",
     "text": [
      "dict_keys(['loss', 'accuracy', 'val_loss', 'val_accuracy'])\n"
     ]
    },
    {
     "data": {
      "image/png": "[encoded data removed]",
      "text/plain": [
       "<Figure size 432x288 with 1 Axes>"
      ]
     },
     "metadata": {
      "needs_background": "light"
     },
     "output_type": "display_data"
    },
    {
     "data": {
      "image/png": "[encoded data removed]",
      "text/plain": [
       "<Figure size 432x288 with 1 Axes>"
      ]
     },
     "metadata": {
      "needs_background": "light"
     },
     "output_type": "display_data"
    }
   ],
   "source": [
    "# list all data in history\n",
    "print(training_results.history.keys())\n",
    "#summarize history for accuracy\n",
    "#plt.figure(figsize=(20,20))\n",
    "plt.plot(training_results.history['accuracy'])\n",
    "plt.plot(training_results.history['val_accuracy'])\n",
    "plt.title('model accuracy')\n",
    "plt.ylabel('accuracy')\n",
    "plt.xlabel('epoch')\n",
    "plt.legend(['train', 'test'], loc='upper left')\n",
    "plt.show()\n",
    "# summarize history for loss\n",
    "plt.plot(training_results.history['loss'])\n",
    "plt.plot(training_results.history['val_loss'])\n",
    "plt.title('model loss')\n",
    "plt.ylabel('loss')\n",
    "plt.xlabel('epoch')\n",
    "plt.legend(['train', 'test'], loc='upper left')\n",
    "plt.show()"
   ]
  },
  {
   "cell_type": "markdown",
   "id": "2bdad47f",
   "metadata": {},
   "source": [
    "### Evaluating the results of the model "
   ]
  },
  {
   "cell_type": "code",
   "execution_count": 22,
   "id": "dbbf2427",
   "metadata": {},
   "outputs": [
    {
     "name": "stdout",
     "output_type": "stream",
     "text": [
      "457/457 - 1s - loss: 0.1880 - accuracy: 0.9431 - 1s/epoch - 2ms/step\n",
      "Loss: 0.187956765294075\n",
      "Accuracy: 0.9431406259536743\n"
     ]
    }
   ],
   "source": [
    "results = model.evaluate(X_test, y_test, verbose=2)\n",
    "\n",
    "print(\"Loss:\", results[0])\n",
    "print(\"Accuracy:\", results[1])"
   ]
  },
  {
   "cell_type": "markdown",
   "id": "d0264742",
   "metadata": {},
   "source": [
    "### Exporting the Model"
   ]
  },
  {
   "cell_type": "code",
   "execution_count": 23,
   "id": "95da8d2b",
   "metadata": {},
   "outputs": [
    {
     "name": "stdout",
     "output_type": "stream",
     "text": [
      "INFO:tensorflow:Assets written to: C:/Users/spoor/Desktop/cis-325/Final Exam/saved_model/2\\assets\n"
     ]
    }
   ],
   "source": [
    "# Save the entire model as a SavedModel.\n",
    "\n",
    "model.save(os.getcwd().replace(\"\\\\\",\"/\")+'/saved_model/2')"
   ]
  },
  {
   "cell_type": "code",
   "execution_count": null,
   "id": "5145713a",
   "metadata": {},
   "outputs": [],
   "source": []
  }
 ],
 "metadata": {
  "kernelspec": {
   "display_name": "Python 3 (ipykernel)",
   "language": "python",
   "name": "python3"
  },
  "language_info": {
   "codemirror_mode": {
    "name": "ipython",
    "version": 3
   },
   "file_extension": ".py",
   "mimetype": "text/x-python",
   "name": "python",
   "nbconvert_exporter": "python",
   "pygments_lexer": "ipython3",
   "version": "3.9.7"
  }
 },
 "nbformat": 4,
 "nbformat_minor": 5
}
